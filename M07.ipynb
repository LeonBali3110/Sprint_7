{
 "cells": [
  {
   "cell_type": "code",
   "execution_count": 1,
   "id": "b3334d3f",
   "metadata": {},
   "outputs": [],
   "source": [
    "import pandas as pd\n",
    "from sklearn.model_selection import train_test_split\n",
    "import matplotlib.pyplot as plt\n",
    "import numpy as np\n",
    "import seaborn as sns"
   ]
  },
  {
   "cell_type": "code",
   "execution_count": 2,
   "id": "86cf5789",
   "metadata": {},
   "outputs": [],
   "source": [
    "wine = 'wineData.txt'"
   ]
  },
  {
   "cell_type": "code",
   "execution_count": 3,
   "id": "56b6599c",
   "metadata": {},
   "outputs": [],
   "source": [
    "with open(wine, 'r', encoding='latin-1') as archivo:\n",
    "    lineas = archivo.readlines()\n",
    "datos = [linea.strip().split(',') for linea in lineas]\n",
    "columnas = ['Class', 'Alcohol', 'Malic acid', 'Ash', 'Alcalinity of ash', 'Magnesium', 'Total phenols', 'Flavanoids', 'Nonflavanoid phenols', 'Proanthocyanins', 'Color intensity', 'Hue', 'OD280/OD315 of diluted wines', 'Proline']\n",
    "df = pd.DataFrame(datos, columns=columnas)"
   ]
  },
  {
   "cell_type": "code",
   "execution_count": 4,
   "id": "8c19065c",
   "metadata": {
    "scrolled": false
   },
   "outputs": [
    {
     "data": {
      "text/html": [
       "<div>\n",
       "<style scoped>\n",
       "    .dataframe tbody tr th:only-of-type {\n",
       "        vertical-align: middle;\n",
       "    }\n",
       "\n",
       "    .dataframe tbody tr th {\n",
       "        vertical-align: top;\n",
       "    }\n",
       "\n",
       "    .dataframe thead th {\n",
       "        text-align: right;\n",
       "    }\n",
       "</style>\n",
       "<table border=\"1\" class=\"dataframe\">\n",
       "  <thead>\n",
       "    <tr style=\"text-align: right;\">\n",
       "      <th></th>\n",
       "      <th>Class</th>\n",
       "      <th>Alcohol</th>\n",
       "      <th>Malic acid</th>\n",
       "      <th>Ash</th>\n",
       "      <th>Alcalinity of ash</th>\n",
       "      <th>Magnesium</th>\n",
       "      <th>Total phenols</th>\n",
       "      <th>Flavanoids</th>\n",
       "      <th>Nonflavanoid phenols</th>\n",
       "      <th>Proanthocyanins</th>\n",
       "      <th>Color intensity</th>\n",
       "      <th>Hue</th>\n",
       "      <th>OD280/OD315 of diluted wines</th>\n",
       "      <th>Proline</th>\n",
       "    </tr>\n",
       "  </thead>\n",
       "  <tbody>\n",
       "    <tr>\n",
       "      <th>0</th>\n",
       "      <td>1</td>\n",
       "      <td>14.23</td>\n",
       "      <td>1.71</td>\n",
       "      <td>2.43</td>\n",
       "      <td>15.6</td>\n",
       "      <td>127</td>\n",
       "      <td>2.8</td>\n",
       "      <td>3.06</td>\n",
       "      <td>.28</td>\n",
       "      <td>2.29</td>\n",
       "      <td>5.64</td>\n",
       "      <td>1.04</td>\n",
       "      <td>3.92</td>\n",
       "      <td>1065</td>\n",
       "    </tr>\n",
       "    <tr>\n",
       "      <th>1</th>\n",
       "      <td>1</td>\n",
       "      <td>13.2</td>\n",
       "      <td>1.78</td>\n",
       "      <td>2.14</td>\n",
       "      <td>11.2</td>\n",
       "      <td>100</td>\n",
       "      <td>2.65</td>\n",
       "      <td>2.76</td>\n",
       "      <td>.26</td>\n",
       "      <td>1.28</td>\n",
       "      <td>4.38</td>\n",
       "      <td>1.05</td>\n",
       "      <td>3.4</td>\n",
       "      <td>1050</td>\n",
       "    </tr>\n",
       "    <tr>\n",
       "      <th>2</th>\n",
       "      <td>1</td>\n",
       "      <td>13.16</td>\n",
       "      <td>2.36</td>\n",
       "      <td>2.67</td>\n",
       "      <td>18.6</td>\n",
       "      <td>101</td>\n",
       "      <td>2.8</td>\n",
       "      <td>3.24</td>\n",
       "      <td>.3</td>\n",
       "      <td>2.81</td>\n",
       "      <td>5.68</td>\n",
       "      <td>1.03</td>\n",
       "      <td>3.17</td>\n",
       "      <td>1185</td>\n",
       "    </tr>\n",
       "    <tr>\n",
       "      <th>3</th>\n",
       "      <td>1</td>\n",
       "      <td>14.37</td>\n",
       "      <td>1.95</td>\n",
       "      <td>2.5</td>\n",
       "      <td>16.8</td>\n",
       "      <td>113</td>\n",
       "      <td>3.85</td>\n",
       "      <td>3.49</td>\n",
       "      <td>.24</td>\n",
       "      <td>2.18</td>\n",
       "      <td>7.8</td>\n",
       "      <td>.86</td>\n",
       "      <td>3.45</td>\n",
       "      <td>1480</td>\n",
       "    </tr>\n",
       "    <tr>\n",
       "      <th>4</th>\n",
       "      <td>1</td>\n",
       "      <td>13.24</td>\n",
       "      <td>2.59</td>\n",
       "      <td>2.87</td>\n",
       "      <td>21</td>\n",
       "      <td>118</td>\n",
       "      <td>2.8</td>\n",
       "      <td>2.69</td>\n",
       "      <td>.39</td>\n",
       "      <td>1.82</td>\n",
       "      <td>4.32</td>\n",
       "      <td>1.04</td>\n",
       "      <td>2.93</td>\n",
       "      <td>735</td>\n",
       "    </tr>\n",
       "    <tr>\n",
       "      <th>...</th>\n",
       "      <td>...</td>\n",
       "      <td>...</td>\n",
       "      <td>...</td>\n",
       "      <td>...</td>\n",
       "      <td>...</td>\n",
       "      <td>...</td>\n",
       "      <td>...</td>\n",
       "      <td>...</td>\n",
       "      <td>...</td>\n",
       "      <td>...</td>\n",
       "      <td>...</td>\n",
       "      <td>...</td>\n",
       "      <td>...</td>\n",
       "      <td>...</td>\n",
       "    </tr>\n",
       "    <tr>\n",
       "      <th>173</th>\n",
       "      <td>3</td>\n",
       "      <td>13.71</td>\n",
       "      <td>5.65</td>\n",
       "      <td>2.45</td>\n",
       "      <td>20.5</td>\n",
       "      <td>95</td>\n",
       "      <td>1.68</td>\n",
       "      <td>.61</td>\n",
       "      <td>.52</td>\n",
       "      <td>1.06</td>\n",
       "      <td>7.7</td>\n",
       "      <td>.64</td>\n",
       "      <td>1.74</td>\n",
       "      <td>740</td>\n",
       "    </tr>\n",
       "    <tr>\n",
       "      <th>174</th>\n",
       "      <td>3</td>\n",
       "      <td>13.4</td>\n",
       "      <td>3.91</td>\n",
       "      <td>2.48</td>\n",
       "      <td>23</td>\n",
       "      <td>102</td>\n",
       "      <td>1.8</td>\n",
       "      <td>.75</td>\n",
       "      <td>.43</td>\n",
       "      <td>1.41</td>\n",
       "      <td>7.3</td>\n",
       "      <td>.7</td>\n",
       "      <td>1.56</td>\n",
       "      <td>750</td>\n",
       "    </tr>\n",
       "    <tr>\n",
       "      <th>175</th>\n",
       "      <td>3</td>\n",
       "      <td>13.27</td>\n",
       "      <td>4.28</td>\n",
       "      <td>2.26</td>\n",
       "      <td>20</td>\n",
       "      <td>120</td>\n",
       "      <td>1.59</td>\n",
       "      <td>.69</td>\n",
       "      <td>.43</td>\n",
       "      <td>1.35</td>\n",
       "      <td>10.2</td>\n",
       "      <td>.59</td>\n",
       "      <td>1.56</td>\n",
       "      <td>835</td>\n",
       "    </tr>\n",
       "    <tr>\n",
       "      <th>176</th>\n",
       "      <td>3</td>\n",
       "      <td>13.17</td>\n",
       "      <td>2.59</td>\n",
       "      <td>2.37</td>\n",
       "      <td>20</td>\n",
       "      <td>120</td>\n",
       "      <td>1.65</td>\n",
       "      <td>.68</td>\n",
       "      <td>.53</td>\n",
       "      <td>1.46</td>\n",
       "      <td>9.3</td>\n",
       "      <td>.6</td>\n",
       "      <td>1.62</td>\n",
       "      <td>840</td>\n",
       "    </tr>\n",
       "    <tr>\n",
       "      <th>177</th>\n",
       "      <td>3</td>\n",
       "      <td>14.13</td>\n",
       "      <td>4.1</td>\n",
       "      <td>2.74</td>\n",
       "      <td>24.5</td>\n",
       "      <td>96</td>\n",
       "      <td>2.05</td>\n",
       "      <td>.76</td>\n",
       "      <td>.56</td>\n",
       "      <td>1.35</td>\n",
       "      <td>9.2</td>\n",
       "      <td>.61</td>\n",
       "      <td>1.6</td>\n",
       "      <td>560</td>\n",
       "    </tr>\n",
       "  </tbody>\n",
       "</table>\n",
       "<p>178 rows × 14 columns</p>\n",
       "</div>"
      ],
      "text/plain": [
       "    Class Alcohol Malic acid   Ash Alcalinity of ash Magnesium Total phenols  \\\n",
       "0       1   14.23       1.71  2.43              15.6       127           2.8   \n",
       "1       1    13.2       1.78  2.14              11.2       100          2.65   \n",
       "2       1   13.16       2.36  2.67              18.6       101           2.8   \n",
       "3       1   14.37       1.95   2.5              16.8       113          3.85   \n",
       "4       1   13.24       2.59  2.87                21       118           2.8   \n",
       "..    ...     ...        ...   ...               ...       ...           ...   \n",
       "173     3   13.71       5.65  2.45              20.5        95          1.68   \n",
       "174     3    13.4       3.91  2.48                23       102           1.8   \n",
       "175     3   13.27       4.28  2.26                20       120          1.59   \n",
       "176     3   13.17       2.59  2.37                20       120          1.65   \n",
       "177     3   14.13        4.1  2.74              24.5        96          2.05   \n",
       "\n",
       "    Flavanoids Nonflavanoid phenols Proanthocyanins Color intensity   Hue  \\\n",
       "0         3.06                  .28            2.29            5.64  1.04   \n",
       "1         2.76                  .26            1.28            4.38  1.05   \n",
       "2         3.24                   .3            2.81            5.68  1.03   \n",
       "3         3.49                  .24            2.18             7.8   .86   \n",
       "4         2.69                  .39            1.82            4.32  1.04   \n",
       "..         ...                  ...             ...             ...   ...   \n",
       "173        .61                  .52            1.06             7.7   .64   \n",
       "174        .75                  .43            1.41             7.3    .7   \n",
       "175        .69                  .43            1.35            10.2   .59   \n",
       "176        .68                  .53            1.46             9.3    .6   \n",
       "177        .76                  .56            1.35             9.2   .61   \n",
       "\n",
       "    OD280/OD315 of diluted wines Proline  \n",
       "0                           3.92    1065  \n",
       "1                            3.4    1050  \n",
       "2                           3.17    1185  \n",
       "3                           3.45    1480  \n",
       "4                           2.93     735  \n",
       "..                           ...     ...  \n",
       "173                         1.74     740  \n",
       "174                         1.56     750  \n",
       "175                         1.56     835  \n",
       "176                         1.62     840  \n",
       "177                          1.6     560  \n",
       "\n",
       "[178 rows x 14 columns]"
      ]
     },
     "execution_count": 4,
     "metadata": {},
     "output_type": "execute_result"
    }
   ],
   "source": [
    "df"
   ]
  },
  {
   "cell_type": "markdown",
   "id": "f1521863",
   "metadata": {},
   "source": [
    "Estos datos son los resultados de un análisis químico de vinos cultivados en la misma región de Italia pero procedentes de tres cultivares diferentes (mostrado en la columna Class).\n",
    "\n",
    "Por suerte, revisando los datos podemos estar seguros que no existen strings, pues todas las columnas son medidas de algún tipo. Todas exceptos la clase de vino, pero eso es lo que vamos a medir así que esta bien."
   ]
  },
  {
   "cell_type": "code",
   "execution_count": 5,
   "id": "326daa06",
   "metadata": {
    "scrolled": true
   },
   "outputs": [
    {
     "data": {
      "text/plain": [
       "Class                           0\n",
       "Alcohol                         0\n",
       "Malic acid                      0\n",
       "Ash                             0\n",
       "Alcalinity of ash               0\n",
       "Magnesium                       0\n",
       "Total phenols                   0\n",
       "Flavanoids                      0\n",
       "Nonflavanoid phenols            0\n",
       "Proanthocyanins                 0\n",
       "Color intensity                 0\n",
       "Hue                             0\n",
       "OD280/OD315 of diluted wines    0\n",
       "Proline                         0\n",
       "dtype: int64"
      ]
     },
     "execution_count": 5,
     "metadata": {},
     "output_type": "execute_result"
    }
   ],
   "source": [
    "df.isnull().sum()"
   ]
  },
  {
   "cell_type": "code",
   "execution_count": 6,
   "id": "1877c615",
   "metadata": {},
   "outputs": [
    {
     "data": {
      "text/plain": [
       "0"
      ]
     },
     "execution_count": 6,
     "metadata": {},
     "output_type": "execute_result"
    }
   ],
   "source": [
    "df.duplicated().sum()"
   ]
  },
  {
   "cell_type": "code",
   "execution_count": 7,
   "id": "328abecf",
   "metadata": {},
   "outputs": [
    {
     "data": {
      "text/html": [
       "<div>\n",
       "<style scoped>\n",
       "    .dataframe tbody tr th:only-of-type {\n",
       "        vertical-align: middle;\n",
       "    }\n",
       "\n",
       "    .dataframe tbody tr th {\n",
       "        vertical-align: top;\n",
       "    }\n",
       "\n",
       "    .dataframe thead th {\n",
       "        text-align: right;\n",
       "    }\n",
       "</style>\n",
       "<table border=\"1\" class=\"dataframe\">\n",
       "  <thead>\n",
       "    <tr style=\"text-align: right;\">\n",
       "      <th></th>\n",
       "      <th>Class</th>\n",
       "      <th>Alcohol</th>\n",
       "      <th>Malic acid</th>\n",
       "      <th>Ash</th>\n",
       "      <th>Alcalinity of ash</th>\n",
       "      <th>Magnesium</th>\n",
       "      <th>Total phenols</th>\n",
       "      <th>Flavanoids</th>\n",
       "      <th>Nonflavanoid phenols</th>\n",
       "      <th>Proanthocyanins</th>\n",
       "      <th>Color intensity</th>\n",
       "      <th>Hue</th>\n",
       "      <th>OD280/OD315 of diluted wines</th>\n",
       "      <th>Proline</th>\n",
       "    </tr>\n",
       "  </thead>\n",
       "  <tbody>\n",
       "    <tr>\n",
       "      <th>count</th>\n",
       "      <td>178</td>\n",
       "      <td>178</td>\n",
       "      <td>178</td>\n",
       "      <td>178</td>\n",
       "      <td>178</td>\n",
       "      <td>178</td>\n",
       "      <td>178</td>\n",
       "      <td>178</td>\n",
       "      <td>178</td>\n",
       "      <td>178</td>\n",
       "      <td>178</td>\n",
       "      <td>178</td>\n",
       "      <td>178</td>\n",
       "      <td>178</td>\n",
       "    </tr>\n",
       "    <tr>\n",
       "      <th>unique</th>\n",
       "      <td>3</td>\n",
       "      <td>126</td>\n",
       "      <td>133</td>\n",
       "      <td>79</td>\n",
       "      <td>63</td>\n",
       "      <td>53</td>\n",
       "      <td>97</td>\n",
       "      <td>132</td>\n",
       "      <td>39</td>\n",
       "      <td>101</td>\n",
       "      <td>132</td>\n",
       "      <td>78</td>\n",
       "      <td>122</td>\n",
       "      <td>121</td>\n",
       "    </tr>\n",
       "    <tr>\n",
       "      <th>top</th>\n",
       "      <td>2</td>\n",
       "      <td>13.05</td>\n",
       "      <td>1.73</td>\n",
       "      <td>2.3</td>\n",
       "      <td>20</td>\n",
       "      <td>88</td>\n",
       "      <td>2.2</td>\n",
       "      <td>2.65</td>\n",
       "      <td>.43</td>\n",
       "      <td>1.35</td>\n",
       "      <td>2.6</td>\n",
       "      <td>1.04</td>\n",
       "      <td>2.87</td>\n",
       "      <td>680</td>\n",
       "    </tr>\n",
       "    <tr>\n",
       "      <th>freq</th>\n",
       "      <td>71</td>\n",
       "      <td>6</td>\n",
       "      <td>7</td>\n",
       "      <td>7</td>\n",
       "      <td>15</td>\n",
       "      <td>13</td>\n",
       "      <td>8</td>\n",
       "      <td>4</td>\n",
       "      <td>11</td>\n",
       "      <td>9</td>\n",
       "      <td>4</td>\n",
       "      <td>8</td>\n",
       "      <td>5</td>\n",
       "      <td>5</td>\n",
       "    </tr>\n",
       "  </tbody>\n",
       "</table>\n",
       "</div>"
      ],
      "text/plain": [
       "       Class Alcohol Malic acid  Ash Alcalinity of ash Magnesium  \\\n",
       "count    178     178        178  178               178       178   \n",
       "unique     3     126        133   79                63        53   \n",
       "top        2   13.05       1.73  2.3                20        88   \n",
       "freq      71       6          7    7                15        13   \n",
       "\n",
       "       Total phenols Flavanoids Nonflavanoid phenols Proanthocyanins  \\\n",
       "count            178        178                  178             178   \n",
       "unique            97        132                   39             101   \n",
       "top              2.2       2.65                  .43            1.35   \n",
       "freq               8          4                   11               9   \n",
       "\n",
       "       Color intensity   Hue OD280/OD315 of diluted wines Proline  \n",
       "count              178   178                          178     178  \n",
       "unique             132    78                          122     121  \n",
       "top                2.6  1.04                         2.87     680  \n",
       "freq                 4     8                            5       5  "
      ]
     },
     "execution_count": 7,
     "metadata": {},
     "output_type": "execute_result"
    }
   ],
   "source": [
    "df.describe()"
   ]
  },
  {
   "cell_type": "code",
   "execution_count": 8,
   "id": "5b306092",
   "metadata": {
    "scrolled": false
   },
   "outputs": [
    {
     "data": {
      "text/plain": [
       "Class                           object\n",
       "Alcohol                         object\n",
       "Malic acid                      object\n",
       "Ash                             object\n",
       "Alcalinity of ash               object\n",
       "Magnesium                       object\n",
       "Total phenols                   object\n",
       "Flavanoids                      object\n",
       "Nonflavanoid phenols            object\n",
       "Proanthocyanins                 object\n",
       "Color intensity                 object\n",
       "Hue                             object\n",
       "OD280/OD315 of diluted wines    object\n",
       "Proline                         object\n",
       "dtype: object"
      ]
     },
     "execution_count": 8,
     "metadata": {},
     "output_type": "execute_result"
    }
   ],
   "source": [
    "df.dtypes"
   ]
  },
  {
   "cell_type": "markdown",
   "id": "51e2233e",
   "metadata": {},
   "source": [
    "Como el modelo solo interpreta números tendremos que convertir nuestras variables en float."
   ]
  },
  {
   "cell_type": "code",
   "execution_count": 9,
   "id": "9bf75aa8",
   "metadata": {},
   "outputs": [],
   "source": [
    "for columna in columnas:\n",
    "    df[columna] = df[columna].astype('float64')"
   ]
  },
  {
   "cell_type": "code",
   "execution_count": 10,
   "id": "718e5fd5",
   "metadata": {},
   "outputs": [
    {
     "data": {
      "text/plain": [
       "Class                           float64\n",
       "Alcohol                         float64\n",
       "Malic acid                      float64\n",
       "Ash                             float64\n",
       "Alcalinity of ash               float64\n",
       "Magnesium                       float64\n",
       "Total phenols                   float64\n",
       "Flavanoids                      float64\n",
       "Nonflavanoid phenols            float64\n",
       "Proanthocyanins                 float64\n",
       "Color intensity                 float64\n",
       "Hue                             float64\n",
       "OD280/OD315 of diluted wines    float64\n",
       "Proline                         float64\n",
       "dtype: object"
      ]
     },
     "execution_count": 10,
     "metadata": {},
     "output_type": "execute_result"
    }
   ],
   "source": [
    "df.dtypes"
   ]
  },
  {
   "cell_type": "code",
   "execution_count": 11,
   "id": "8e5bcd74",
   "metadata": {},
   "outputs": [
    {
     "data": {
      "text/html": [
       "<div>\n",
       "<style scoped>\n",
       "    .dataframe tbody tr th:only-of-type {\n",
       "        vertical-align: middle;\n",
       "    }\n",
       "\n",
       "    .dataframe tbody tr th {\n",
       "        vertical-align: top;\n",
       "    }\n",
       "\n",
       "    .dataframe thead th {\n",
       "        text-align: right;\n",
       "    }\n",
       "</style>\n",
       "<table border=\"1\" class=\"dataframe\">\n",
       "  <thead>\n",
       "    <tr style=\"text-align: right;\">\n",
       "      <th></th>\n",
       "      <th>Class</th>\n",
       "      <th>Alcohol</th>\n",
       "      <th>Malic acid</th>\n",
       "      <th>Ash</th>\n",
       "      <th>Alcalinity of ash</th>\n",
       "      <th>Magnesium</th>\n",
       "      <th>Total phenols</th>\n",
       "      <th>Flavanoids</th>\n",
       "      <th>Nonflavanoid phenols</th>\n",
       "      <th>Proanthocyanins</th>\n",
       "      <th>Color intensity</th>\n",
       "      <th>Hue</th>\n",
       "      <th>OD280/OD315 of diluted wines</th>\n",
       "      <th>Proline</th>\n",
       "    </tr>\n",
       "  </thead>\n",
       "  <tbody>\n",
       "    <tr>\n",
       "      <th>count</th>\n",
       "      <td>178.000000</td>\n",
       "      <td>178.000000</td>\n",
       "      <td>178.000000</td>\n",
       "      <td>178.000000</td>\n",
       "      <td>178.000000</td>\n",
       "      <td>178.000000</td>\n",
       "      <td>178.000000</td>\n",
       "      <td>178.000000</td>\n",
       "      <td>178.000000</td>\n",
       "      <td>178.000000</td>\n",
       "      <td>178.000000</td>\n",
       "      <td>178.000000</td>\n",
       "      <td>178.000000</td>\n",
       "      <td>178.000000</td>\n",
       "    </tr>\n",
       "    <tr>\n",
       "      <th>mean</th>\n",
       "      <td>1.938202</td>\n",
       "      <td>13.000618</td>\n",
       "      <td>2.336348</td>\n",
       "      <td>2.366517</td>\n",
       "      <td>19.494944</td>\n",
       "      <td>99.741573</td>\n",
       "      <td>2.295112</td>\n",
       "      <td>2.029270</td>\n",
       "      <td>0.361854</td>\n",
       "      <td>1.590899</td>\n",
       "      <td>5.058090</td>\n",
       "      <td>0.957449</td>\n",
       "      <td>2.611685</td>\n",
       "      <td>746.893258</td>\n",
       "    </tr>\n",
       "    <tr>\n",
       "      <th>std</th>\n",
       "      <td>0.775035</td>\n",
       "      <td>0.811827</td>\n",
       "      <td>1.117146</td>\n",
       "      <td>0.274344</td>\n",
       "      <td>3.339564</td>\n",
       "      <td>14.282484</td>\n",
       "      <td>0.625851</td>\n",
       "      <td>0.998859</td>\n",
       "      <td>0.124453</td>\n",
       "      <td>0.572359</td>\n",
       "      <td>2.318286</td>\n",
       "      <td>0.228572</td>\n",
       "      <td>0.709990</td>\n",
       "      <td>314.907474</td>\n",
       "    </tr>\n",
       "    <tr>\n",
       "      <th>min</th>\n",
       "      <td>1.000000</td>\n",
       "      <td>11.030000</td>\n",
       "      <td>0.740000</td>\n",
       "      <td>1.360000</td>\n",
       "      <td>10.600000</td>\n",
       "      <td>70.000000</td>\n",
       "      <td>0.980000</td>\n",
       "      <td>0.340000</td>\n",
       "      <td>0.130000</td>\n",
       "      <td>0.410000</td>\n",
       "      <td>1.280000</td>\n",
       "      <td>0.480000</td>\n",
       "      <td>1.270000</td>\n",
       "      <td>278.000000</td>\n",
       "    </tr>\n",
       "    <tr>\n",
       "      <th>25%</th>\n",
       "      <td>1.000000</td>\n",
       "      <td>12.362500</td>\n",
       "      <td>1.602500</td>\n",
       "      <td>2.210000</td>\n",
       "      <td>17.200000</td>\n",
       "      <td>88.000000</td>\n",
       "      <td>1.742500</td>\n",
       "      <td>1.205000</td>\n",
       "      <td>0.270000</td>\n",
       "      <td>1.250000</td>\n",
       "      <td>3.220000</td>\n",
       "      <td>0.782500</td>\n",
       "      <td>1.937500</td>\n",
       "      <td>500.500000</td>\n",
       "    </tr>\n",
       "    <tr>\n",
       "      <th>50%</th>\n",
       "      <td>2.000000</td>\n",
       "      <td>13.050000</td>\n",
       "      <td>1.865000</td>\n",
       "      <td>2.360000</td>\n",
       "      <td>19.500000</td>\n",
       "      <td>98.000000</td>\n",
       "      <td>2.355000</td>\n",
       "      <td>2.135000</td>\n",
       "      <td>0.340000</td>\n",
       "      <td>1.555000</td>\n",
       "      <td>4.690000</td>\n",
       "      <td>0.965000</td>\n",
       "      <td>2.780000</td>\n",
       "      <td>673.500000</td>\n",
       "    </tr>\n",
       "    <tr>\n",
       "      <th>75%</th>\n",
       "      <td>3.000000</td>\n",
       "      <td>13.677500</td>\n",
       "      <td>3.082500</td>\n",
       "      <td>2.557500</td>\n",
       "      <td>21.500000</td>\n",
       "      <td>107.000000</td>\n",
       "      <td>2.800000</td>\n",
       "      <td>2.875000</td>\n",
       "      <td>0.437500</td>\n",
       "      <td>1.950000</td>\n",
       "      <td>6.200000</td>\n",
       "      <td>1.120000</td>\n",
       "      <td>3.170000</td>\n",
       "      <td>985.000000</td>\n",
       "    </tr>\n",
       "    <tr>\n",
       "      <th>max</th>\n",
       "      <td>3.000000</td>\n",
       "      <td>14.830000</td>\n",
       "      <td>5.800000</td>\n",
       "      <td>3.230000</td>\n",
       "      <td>30.000000</td>\n",
       "      <td>162.000000</td>\n",
       "      <td>3.880000</td>\n",
       "      <td>5.080000</td>\n",
       "      <td>0.660000</td>\n",
       "      <td>3.580000</td>\n",
       "      <td>13.000000</td>\n",
       "      <td>1.710000</td>\n",
       "      <td>4.000000</td>\n",
       "      <td>1680.000000</td>\n",
       "    </tr>\n",
       "  </tbody>\n",
       "</table>\n",
       "</div>"
      ],
      "text/plain": [
       "            Class     Alcohol  Malic acid         Ash  Alcalinity of ash  \\\n",
       "count  178.000000  178.000000  178.000000  178.000000         178.000000   \n",
       "mean     1.938202   13.000618    2.336348    2.366517          19.494944   \n",
       "std      0.775035    0.811827    1.117146    0.274344           3.339564   \n",
       "min      1.000000   11.030000    0.740000    1.360000          10.600000   \n",
       "25%      1.000000   12.362500    1.602500    2.210000          17.200000   \n",
       "50%      2.000000   13.050000    1.865000    2.360000          19.500000   \n",
       "75%      3.000000   13.677500    3.082500    2.557500          21.500000   \n",
       "max      3.000000   14.830000    5.800000    3.230000          30.000000   \n",
       "\n",
       "        Magnesium  Total phenols  Flavanoids  Nonflavanoid phenols  \\\n",
       "count  178.000000     178.000000  178.000000            178.000000   \n",
       "mean    99.741573       2.295112    2.029270              0.361854   \n",
       "std     14.282484       0.625851    0.998859              0.124453   \n",
       "min     70.000000       0.980000    0.340000              0.130000   \n",
       "25%     88.000000       1.742500    1.205000              0.270000   \n",
       "50%     98.000000       2.355000    2.135000              0.340000   \n",
       "75%    107.000000       2.800000    2.875000              0.437500   \n",
       "max    162.000000       3.880000    5.080000              0.660000   \n",
       "\n",
       "       Proanthocyanins  Color intensity         Hue  \\\n",
       "count       178.000000       178.000000  178.000000   \n",
       "mean          1.590899         5.058090    0.957449   \n",
       "std           0.572359         2.318286    0.228572   \n",
       "min           0.410000         1.280000    0.480000   \n",
       "25%           1.250000         3.220000    0.782500   \n",
       "50%           1.555000         4.690000    0.965000   \n",
       "75%           1.950000         6.200000    1.120000   \n",
       "max           3.580000        13.000000    1.710000   \n",
       "\n",
       "       OD280/OD315 of diluted wines      Proline  \n",
       "count                    178.000000   178.000000  \n",
       "mean                       2.611685   746.893258  \n",
       "std                        0.709990   314.907474  \n",
       "min                        1.270000   278.000000  \n",
       "25%                        1.937500   500.500000  \n",
       "50%                        2.780000   673.500000  \n",
       "75%                        3.170000   985.000000  \n",
       "max                        4.000000  1680.000000  "
      ]
     },
     "execution_count": 11,
     "metadata": {},
     "output_type": "execute_result"
    }
   ],
   "source": [
    "df.describe()"
   ]
  },
  {
   "cell_type": "code",
   "execution_count": 12,
   "id": "70910580",
   "metadata": {},
   "outputs": [],
   "source": [
    "x = df.drop('Class', axis = 1)\n",
    "y = df['Class']"
   ]
  },
  {
   "cell_type": "code",
   "execution_count": 13,
   "id": "289c2924",
   "metadata": {},
   "outputs": [
    {
     "data": {
      "text/html": [
       "<div>\n",
       "<style scoped>\n",
       "    .dataframe tbody tr th:only-of-type {\n",
       "        vertical-align: middle;\n",
       "    }\n",
       "\n",
       "    .dataframe tbody tr th {\n",
       "        vertical-align: top;\n",
       "    }\n",
       "\n",
       "    .dataframe thead th {\n",
       "        text-align: right;\n",
       "    }\n",
       "</style>\n",
       "<table border=\"1\" class=\"dataframe\">\n",
       "  <thead>\n",
       "    <tr style=\"text-align: right;\">\n",
       "      <th></th>\n",
       "      <th>Alcohol</th>\n",
       "      <th>Malic acid</th>\n",
       "      <th>Ash</th>\n",
       "      <th>Alcalinity of ash</th>\n",
       "      <th>Magnesium</th>\n",
       "      <th>Total phenols</th>\n",
       "      <th>Flavanoids</th>\n",
       "      <th>Nonflavanoid phenols</th>\n",
       "      <th>Proanthocyanins</th>\n",
       "      <th>Color intensity</th>\n",
       "      <th>Hue</th>\n",
       "      <th>OD280/OD315 of diluted wines</th>\n",
       "      <th>Proline</th>\n",
       "    </tr>\n",
       "  </thead>\n",
       "  <tbody>\n",
       "    <tr>\n",
       "      <th>0</th>\n",
       "      <td>14.23</td>\n",
       "      <td>1.71</td>\n",
       "      <td>2.43</td>\n",
       "      <td>15.6</td>\n",
       "      <td>127.0</td>\n",
       "      <td>2.80</td>\n",
       "      <td>3.06</td>\n",
       "      <td>0.28</td>\n",
       "      <td>2.29</td>\n",
       "      <td>5.64</td>\n",
       "      <td>1.04</td>\n",
       "      <td>3.92</td>\n",
       "      <td>1065.0</td>\n",
       "    </tr>\n",
       "    <tr>\n",
       "      <th>1</th>\n",
       "      <td>13.20</td>\n",
       "      <td>1.78</td>\n",
       "      <td>2.14</td>\n",
       "      <td>11.2</td>\n",
       "      <td>100.0</td>\n",
       "      <td>2.65</td>\n",
       "      <td>2.76</td>\n",
       "      <td>0.26</td>\n",
       "      <td>1.28</td>\n",
       "      <td>4.38</td>\n",
       "      <td>1.05</td>\n",
       "      <td>3.40</td>\n",
       "      <td>1050.0</td>\n",
       "    </tr>\n",
       "    <tr>\n",
       "      <th>2</th>\n",
       "      <td>13.16</td>\n",
       "      <td>2.36</td>\n",
       "      <td>2.67</td>\n",
       "      <td>18.6</td>\n",
       "      <td>101.0</td>\n",
       "      <td>2.80</td>\n",
       "      <td>3.24</td>\n",
       "      <td>0.30</td>\n",
       "      <td>2.81</td>\n",
       "      <td>5.68</td>\n",
       "      <td>1.03</td>\n",
       "      <td>3.17</td>\n",
       "      <td>1185.0</td>\n",
       "    </tr>\n",
       "    <tr>\n",
       "      <th>3</th>\n",
       "      <td>14.37</td>\n",
       "      <td>1.95</td>\n",
       "      <td>2.50</td>\n",
       "      <td>16.8</td>\n",
       "      <td>113.0</td>\n",
       "      <td>3.85</td>\n",
       "      <td>3.49</td>\n",
       "      <td>0.24</td>\n",
       "      <td>2.18</td>\n",
       "      <td>7.80</td>\n",
       "      <td>0.86</td>\n",
       "      <td>3.45</td>\n",
       "      <td>1480.0</td>\n",
       "    </tr>\n",
       "    <tr>\n",
       "      <th>4</th>\n",
       "      <td>13.24</td>\n",
       "      <td>2.59</td>\n",
       "      <td>2.87</td>\n",
       "      <td>21.0</td>\n",
       "      <td>118.0</td>\n",
       "      <td>2.80</td>\n",
       "      <td>2.69</td>\n",
       "      <td>0.39</td>\n",
       "      <td>1.82</td>\n",
       "      <td>4.32</td>\n",
       "      <td>1.04</td>\n",
       "      <td>2.93</td>\n",
       "      <td>735.0</td>\n",
       "    </tr>\n",
       "    <tr>\n",
       "      <th>...</th>\n",
       "      <td>...</td>\n",
       "      <td>...</td>\n",
       "      <td>...</td>\n",
       "      <td>...</td>\n",
       "      <td>...</td>\n",
       "      <td>...</td>\n",
       "      <td>...</td>\n",
       "      <td>...</td>\n",
       "      <td>...</td>\n",
       "      <td>...</td>\n",
       "      <td>...</td>\n",
       "      <td>...</td>\n",
       "      <td>...</td>\n",
       "    </tr>\n",
       "    <tr>\n",
       "      <th>173</th>\n",
       "      <td>13.71</td>\n",
       "      <td>5.65</td>\n",
       "      <td>2.45</td>\n",
       "      <td>20.5</td>\n",
       "      <td>95.0</td>\n",
       "      <td>1.68</td>\n",
       "      <td>0.61</td>\n",
       "      <td>0.52</td>\n",
       "      <td>1.06</td>\n",
       "      <td>7.70</td>\n",
       "      <td>0.64</td>\n",
       "      <td>1.74</td>\n",
       "      <td>740.0</td>\n",
       "    </tr>\n",
       "    <tr>\n",
       "      <th>174</th>\n",
       "      <td>13.40</td>\n",
       "      <td>3.91</td>\n",
       "      <td>2.48</td>\n",
       "      <td>23.0</td>\n",
       "      <td>102.0</td>\n",
       "      <td>1.80</td>\n",
       "      <td>0.75</td>\n",
       "      <td>0.43</td>\n",
       "      <td>1.41</td>\n",
       "      <td>7.30</td>\n",
       "      <td>0.70</td>\n",
       "      <td>1.56</td>\n",
       "      <td>750.0</td>\n",
       "    </tr>\n",
       "    <tr>\n",
       "      <th>175</th>\n",
       "      <td>13.27</td>\n",
       "      <td>4.28</td>\n",
       "      <td>2.26</td>\n",
       "      <td>20.0</td>\n",
       "      <td>120.0</td>\n",
       "      <td>1.59</td>\n",
       "      <td>0.69</td>\n",
       "      <td>0.43</td>\n",
       "      <td>1.35</td>\n",
       "      <td>10.20</td>\n",
       "      <td>0.59</td>\n",
       "      <td>1.56</td>\n",
       "      <td>835.0</td>\n",
       "    </tr>\n",
       "    <tr>\n",
       "      <th>176</th>\n",
       "      <td>13.17</td>\n",
       "      <td>2.59</td>\n",
       "      <td>2.37</td>\n",
       "      <td>20.0</td>\n",
       "      <td>120.0</td>\n",
       "      <td>1.65</td>\n",
       "      <td>0.68</td>\n",
       "      <td>0.53</td>\n",
       "      <td>1.46</td>\n",
       "      <td>9.30</td>\n",
       "      <td>0.60</td>\n",
       "      <td>1.62</td>\n",
       "      <td>840.0</td>\n",
       "    </tr>\n",
       "    <tr>\n",
       "      <th>177</th>\n",
       "      <td>14.13</td>\n",
       "      <td>4.10</td>\n",
       "      <td>2.74</td>\n",
       "      <td>24.5</td>\n",
       "      <td>96.0</td>\n",
       "      <td>2.05</td>\n",
       "      <td>0.76</td>\n",
       "      <td>0.56</td>\n",
       "      <td>1.35</td>\n",
       "      <td>9.20</td>\n",
       "      <td>0.61</td>\n",
       "      <td>1.60</td>\n",
       "      <td>560.0</td>\n",
       "    </tr>\n",
       "  </tbody>\n",
       "</table>\n",
       "<p>178 rows × 13 columns</p>\n",
       "</div>"
      ],
      "text/plain": [
       "     Alcohol  Malic acid   Ash  Alcalinity of ash  Magnesium  Total phenols  \\\n",
       "0      14.23        1.71  2.43               15.6      127.0           2.80   \n",
       "1      13.20        1.78  2.14               11.2      100.0           2.65   \n",
       "2      13.16        2.36  2.67               18.6      101.0           2.80   \n",
       "3      14.37        1.95  2.50               16.8      113.0           3.85   \n",
       "4      13.24        2.59  2.87               21.0      118.0           2.80   \n",
       "..       ...         ...   ...                ...        ...            ...   \n",
       "173    13.71        5.65  2.45               20.5       95.0           1.68   \n",
       "174    13.40        3.91  2.48               23.0      102.0           1.80   \n",
       "175    13.27        4.28  2.26               20.0      120.0           1.59   \n",
       "176    13.17        2.59  2.37               20.0      120.0           1.65   \n",
       "177    14.13        4.10  2.74               24.5       96.0           2.05   \n",
       "\n",
       "     Flavanoids  Nonflavanoid phenols  Proanthocyanins  Color intensity   Hue  \\\n",
       "0          3.06                  0.28             2.29             5.64  1.04   \n",
       "1          2.76                  0.26             1.28             4.38  1.05   \n",
       "2          3.24                  0.30             2.81             5.68  1.03   \n",
       "3          3.49                  0.24             2.18             7.80  0.86   \n",
       "4          2.69                  0.39             1.82             4.32  1.04   \n",
       "..          ...                   ...              ...              ...   ...   \n",
       "173        0.61                  0.52             1.06             7.70  0.64   \n",
       "174        0.75                  0.43             1.41             7.30  0.70   \n",
       "175        0.69                  0.43             1.35            10.20  0.59   \n",
       "176        0.68                  0.53             1.46             9.30  0.60   \n",
       "177        0.76                  0.56             1.35             9.20  0.61   \n",
       "\n",
       "     OD280/OD315 of diluted wines  Proline  \n",
       "0                            3.92   1065.0  \n",
       "1                            3.40   1050.0  \n",
       "2                            3.17   1185.0  \n",
       "3                            3.45   1480.0  \n",
       "4                            2.93    735.0  \n",
       "..                            ...      ...  \n",
       "173                          1.74    740.0  \n",
       "174                          1.56    750.0  \n",
       "175                          1.56    835.0  \n",
       "176                          1.62    840.0  \n",
       "177                          1.60    560.0  \n",
       "\n",
       "[178 rows x 13 columns]"
      ]
     },
     "execution_count": 13,
     "metadata": {},
     "output_type": "execute_result"
    }
   ],
   "source": [
    "x"
   ]
  },
  {
   "cell_type": "code",
   "execution_count": 14,
   "id": "5c4d79a4",
   "metadata": {},
   "outputs": [
    {
     "data": {
      "text/plain": [
       "0      1.0\n",
       "1      1.0\n",
       "2      1.0\n",
       "3      1.0\n",
       "4      1.0\n",
       "      ... \n",
       "173    3.0\n",
       "174    3.0\n",
       "175    3.0\n",
       "176    3.0\n",
       "177    3.0\n",
       "Name: Class, Length: 178, dtype: float64"
      ]
     },
     "execution_count": 14,
     "metadata": {},
     "output_type": "execute_result"
    }
   ],
   "source": [
    "y"
   ]
  },
  {
   "cell_type": "code",
   "execution_count": 15,
   "id": "25e28161",
   "metadata": {},
   "outputs": [],
   "source": [
    "x_train, x_test, y_train, y_test = train_test_split(x, y, test_size=0.20, random_state=4)"
   ]
  },
  {
   "cell_type": "code",
   "execution_count": 16,
   "id": "920a9e1f",
   "metadata": {},
   "outputs": [
    {
     "data": {
      "text/html": [
       "<div>\n",
       "<style scoped>\n",
       "    .dataframe tbody tr th:only-of-type {\n",
       "        vertical-align: middle;\n",
       "    }\n",
       "\n",
       "    .dataframe tbody tr th {\n",
       "        vertical-align: top;\n",
       "    }\n",
       "\n",
       "    .dataframe thead th {\n",
       "        text-align: right;\n",
       "    }\n",
       "</style>\n",
       "<table border=\"1\" class=\"dataframe\">\n",
       "  <thead>\n",
       "    <tr style=\"text-align: right;\">\n",
       "      <th></th>\n",
       "      <th>Alcohol</th>\n",
       "      <th>Malic acid</th>\n",
       "      <th>Ash</th>\n",
       "      <th>Alcalinity of ash</th>\n",
       "      <th>Magnesium</th>\n",
       "      <th>Total phenols</th>\n",
       "      <th>Flavanoids</th>\n",
       "      <th>Nonflavanoid phenols</th>\n",
       "      <th>Proanthocyanins</th>\n",
       "      <th>Color intensity</th>\n",
       "      <th>Hue</th>\n",
       "      <th>OD280/OD315 of diluted wines</th>\n",
       "      <th>Proline</th>\n",
       "    </tr>\n",
       "  </thead>\n",
       "  <tbody>\n",
       "    <tr>\n",
       "      <th>16</th>\n",
       "      <td>14.30</td>\n",
       "      <td>1.92</td>\n",
       "      <td>2.72</td>\n",
       "      <td>20.0</td>\n",
       "      <td>120.0</td>\n",
       "      <td>2.80</td>\n",
       "      <td>3.14</td>\n",
       "      <td>0.33</td>\n",
       "      <td>1.97</td>\n",
       "      <td>6.20</td>\n",
       "      <td>1.07</td>\n",
       "      <td>2.65</td>\n",
       "      <td>1280.0</td>\n",
       "    </tr>\n",
       "    <tr>\n",
       "      <th>19</th>\n",
       "      <td>13.64</td>\n",
       "      <td>3.10</td>\n",
       "      <td>2.56</td>\n",
       "      <td>15.2</td>\n",
       "      <td>116.0</td>\n",
       "      <td>2.70</td>\n",
       "      <td>3.03</td>\n",
       "      <td>0.17</td>\n",
       "      <td>1.66</td>\n",
       "      <td>5.10</td>\n",
       "      <td>0.96</td>\n",
       "      <td>3.36</td>\n",
       "      <td>845.0</td>\n",
       "    </tr>\n",
       "    <tr>\n",
       "      <th>2</th>\n",
       "      <td>13.16</td>\n",
       "      <td>2.36</td>\n",
       "      <td>2.67</td>\n",
       "      <td>18.6</td>\n",
       "      <td>101.0</td>\n",
       "      <td>2.80</td>\n",
       "      <td>3.24</td>\n",
       "      <td>0.30</td>\n",
       "      <td>2.81</td>\n",
       "      <td>5.68</td>\n",
       "      <td>1.03</td>\n",
       "      <td>3.17</td>\n",
       "      <td>1185.0</td>\n",
       "    </tr>\n",
       "    <tr>\n",
       "      <th>159</th>\n",
       "      <td>13.48</td>\n",
       "      <td>1.67</td>\n",
       "      <td>2.64</td>\n",
       "      <td>22.5</td>\n",
       "      <td>89.0</td>\n",
       "      <td>2.60</td>\n",
       "      <td>1.10</td>\n",
       "      <td>0.52</td>\n",
       "      <td>2.29</td>\n",
       "      <td>11.75</td>\n",
       "      <td>0.57</td>\n",
       "      <td>1.78</td>\n",
       "      <td>620.0</td>\n",
       "    </tr>\n",
       "    <tr>\n",
       "      <th>135</th>\n",
       "      <td>12.60</td>\n",
       "      <td>2.46</td>\n",
       "      <td>2.20</td>\n",
       "      <td>18.5</td>\n",
       "      <td>94.0</td>\n",
       "      <td>1.62</td>\n",
       "      <td>0.66</td>\n",
       "      <td>0.63</td>\n",
       "      <td>0.94</td>\n",
       "      <td>7.10</td>\n",
       "      <td>0.73</td>\n",
       "      <td>1.58</td>\n",
       "      <td>695.0</td>\n",
       "    </tr>\n",
       "    <tr>\n",
       "      <th>...</th>\n",
       "      <td>...</td>\n",
       "      <td>...</td>\n",
       "      <td>...</td>\n",
       "      <td>...</td>\n",
       "      <td>...</td>\n",
       "      <td>...</td>\n",
       "      <td>...</td>\n",
       "      <td>...</td>\n",
       "      <td>...</td>\n",
       "      <td>...</td>\n",
       "      <td>...</td>\n",
       "      <td>...</td>\n",
       "      <td>...</td>\n",
       "    </tr>\n",
       "    <tr>\n",
       "      <th>87</th>\n",
       "      <td>11.65</td>\n",
       "      <td>1.67</td>\n",
       "      <td>2.62</td>\n",
       "      <td>26.0</td>\n",
       "      <td>88.0</td>\n",
       "      <td>1.92</td>\n",
       "      <td>1.61</td>\n",
       "      <td>0.40</td>\n",
       "      <td>1.34</td>\n",
       "      <td>2.60</td>\n",
       "      <td>1.36</td>\n",
       "      <td>3.21</td>\n",
       "      <td>562.0</td>\n",
       "    </tr>\n",
       "    <tr>\n",
       "      <th>104</th>\n",
       "      <td>12.51</td>\n",
       "      <td>1.73</td>\n",
       "      <td>1.98</td>\n",
       "      <td>20.5</td>\n",
       "      <td>85.0</td>\n",
       "      <td>2.20</td>\n",
       "      <td>1.92</td>\n",
       "      <td>0.32</td>\n",
       "      <td>1.48</td>\n",
       "      <td>2.94</td>\n",
       "      <td>1.04</td>\n",
       "      <td>3.57</td>\n",
       "      <td>672.0</td>\n",
       "    </tr>\n",
       "    <tr>\n",
       "      <th>129</th>\n",
       "      <td>12.04</td>\n",
       "      <td>4.30</td>\n",
       "      <td>2.38</td>\n",
       "      <td>22.0</td>\n",
       "      <td>80.0</td>\n",
       "      <td>2.10</td>\n",
       "      <td>1.75</td>\n",
       "      <td>0.42</td>\n",
       "      <td>1.35</td>\n",
       "      <td>2.60</td>\n",
       "      <td>0.79</td>\n",
       "      <td>2.57</td>\n",
       "      <td>580.0</td>\n",
       "    </tr>\n",
       "    <tr>\n",
       "      <th>174</th>\n",
       "      <td>13.40</td>\n",
       "      <td>3.91</td>\n",
       "      <td>2.48</td>\n",
       "      <td>23.0</td>\n",
       "      <td>102.0</td>\n",
       "      <td>1.80</td>\n",
       "      <td>0.75</td>\n",
       "      <td>0.43</td>\n",
       "      <td>1.41</td>\n",
       "      <td>7.30</td>\n",
       "      <td>0.70</td>\n",
       "      <td>1.56</td>\n",
       "      <td>750.0</td>\n",
       "    </tr>\n",
       "    <tr>\n",
       "      <th>122</th>\n",
       "      <td>12.42</td>\n",
       "      <td>4.43</td>\n",
       "      <td>2.73</td>\n",
       "      <td>26.5</td>\n",
       "      <td>102.0</td>\n",
       "      <td>2.20</td>\n",
       "      <td>2.13</td>\n",
       "      <td>0.43</td>\n",
       "      <td>1.71</td>\n",
       "      <td>2.08</td>\n",
       "      <td>0.92</td>\n",
       "      <td>3.12</td>\n",
       "      <td>365.0</td>\n",
       "    </tr>\n",
       "  </tbody>\n",
       "</table>\n",
       "<p>142 rows × 13 columns</p>\n",
       "</div>"
      ],
      "text/plain": [
       "     Alcohol  Malic acid   Ash  Alcalinity of ash  Magnesium  Total phenols  \\\n",
       "16     14.30        1.92  2.72               20.0      120.0           2.80   \n",
       "19     13.64        3.10  2.56               15.2      116.0           2.70   \n",
       "2      13.16        2.36  2.67               18.6      101.0           2.80   \n",
       "159    13.48        1.67  2.64               22.5       89.0           2.60   \n",
       "135    12.60        2.46  2.20               18.5       94.0           1.62   \n",
       "..       ...         ...   ...                ...        ...            ...   \n",
       "87     11.65        1.67  2.62               26.0       88.0           1.92   \n",
       "104    12.51        1.73  1.98               20.5       85.0           2.20   \n",
       "129    12.04        4.30  2.38               22.0       80.0           2.10   \n",
       "174    13.40        3.91  2.48               23.0      102.0           1.80   \n",
       "122    12.42        4.43  2.73               26.5      102.0           2.20   \n",
       "\n",
       "     Flavanoids  Nonflavanoid phenols  Proanthocyanins  Color intensity   Hue  \\\n",
       "16         3.14                  0.33             1.97             6.20  1.07   \n",
       "19         3.03                  0.17             1.66             5.10  0.96   \n",
       "2          3.24                  0.30             2.81             5.68  1.03   \n",
       "159        1.10                  0.52             2.29            11.75  0.57   \n",
       "135        0.66                  0.63             0.94             7.10  0.73   \n",
       "..          ...                   ...              ...              ...   ...   \n",
       "87         1.61                  0.40             1.34             2.60  1.36   \n",
       "104        1.92                  0.32             1.48             2.94  1.04   \n",
       "129        1.75                  0.42             1.35             2.60  0.79   \n",
       "174        0.75                  0.43             1.41             7.30  0.70   \n",
       "122        2.13                  0.43             1.71             2.08  0.92   \n",
       "\n",
       "     OD280/OD315 of diluted wines  Proline  \n",
       "16                           2.65   1280.0  \n",
       "19                           3.36    845.0  \n",
       "2                            3.17   1185.0  \n",
       "159                          1.78    620.0  \n",
       "135                          1.58    695.0  \n",
       "..                            ...      ...  \n",
       "87                           3.21    562.0  \n",
       "104                          3.57    672.0  \n",
       "129                          2.57    580.0  \n",
       "174                          1.56    750.0  \n",
       "122                          3.12    365.0  \n",
       "\n",
       "[142 rows x 13 columns]"
      ]
     },
     "execution_count": 16,
     "metadata": {},
     "output_type": "execute_result"
    }
   ],
   "source": [
    "x_train"
   ]
  },
  {
   "cell_type": "code",
   "execution_count": 17,
   "id": "02b64565",
   "metadata": {
    "scrolled": true
   },
   "outputs": [
    {
     "data": {
      "text/html": [
       "<div>\n",
       "<style scoped>\n",
       "    .dataframe tbody tr th:only-of-type {\n",
       "        vertical-align: middle;\n",
       "    }\n",
       "\n",
       "    .dataframe tbody tr th {\n",
       "        vertical-align: top;\n",
       "    }\n",
       "\n",
       "    .dataframe thead th {\n",
       "        text-align: right;\n",
       "    }\n",
       "</style>\n",
       "<table border=\"1\" class=\"dataframe\">\n",
       "  <thead>\n",
       "    <tr style=\"text-align: right;\">\n",
       "      <th></th>\n",
       "      <th>Alcohol</th>\n",
       "      <th>Malic acid</th>\n",
       "      <th>Ash</th>\n",
       "      <th>Alcalinity of ash</th>\n",
       "      <th>Magnesium</th>\n",
       "      <th>Total phenols</th>\n",
       "      <th>Flavanoids</th>\n",
       "      <th>Nonflavanoid phenols</th>\n",
       "      <th>Proanthocyanins</th>\n",
       "      <th>Color intensity</th>\n",
       "      <th>Hue</th>\n",
       "      <th>OD280/OD315 of diluted wines</th>\n",
       "      <th>Proline</th>\n",
       "    </tr>\n",
       "  </thead>\n",
       "  <tbody>\n",
       "    <tr>\n",
       "      <th>163</th>\n",
       "      <td>12.96</td>\n",
       "      <td>3.45</td>\n",
       "      <td>2.35</td>\n",
       "      <td>18.5</td>\n",
       "      <td>106.0</td>\n",
       "      <td>1.39</td>\n",
       "      <td>0.70</td>\n",
       "      <td>0.40</td>\n",
       "      <td>0.94</td>\n",
       "      <td>5.28</td>\n",
       "      <td>0.68</td>\n",
       "      <td>1.75</td>\n",
       "      <td>675.0</td>\n",
       "    </tr>\n",
       "    <tr>\n",
       "      <th>142</th>\n",
       "      <td>13.52</td>\n",
       "      <td>3.17</td>\n",
       "      <td>2.72</td>\n",
       "      <td>23.5</td>\n",
       "      <td>97.0</td>\n",
       "      <td>1.55</td>\n",
       "      <td>0.52</td>\n",
       "      <td>0.50</td>\n",
       "      <td>0.55</td>\n",
       "      <td>4.35</td>\n",
       "      <td>0.89</td>\n",
       "      <td>2.06</td>\n",
       "      <td>520.0</td>\n",
       "    </tr>\n",
       "    <tr>\n",
       "      <th>14</th>\n",
       "      <td>14.38</td>\n",
       "      <td>1.87</td>\n",
       "      <td>2.38</td>\n",
       "      <td>12.0</td>\n",
       "      <td>102.0</td>\n",
       "      <td>3.30</td>\n",
       "      <td>3.64</td>\n",
       "      <td>0.29</td>\n",
       "      <td>2.96</td>\n",
       "      <td>7.50</td>\n",
       "      <td>1.20</td>\n",
       "      <td>3.00</td>\n",
       "      <td>1547.0</td>\n",
       "    </tr>\n",
       "    <tr>\n",
       "      <th>45</th>\n",
       "      <td>14.21</td>\n",
       "      <td>4.04</td>\n",
       "      <td>2.44</td>\n",
       "      <td>18.9</td>\n",
       "      <td>111.0</td>\n",
       "      <td>2.85</td>\n",
       "      <td>2.65</td>\n",
       "      <td>0.30</td>\n",
       "      <td>1.25</td>\n",
       "      <td>5.24</td>\n",
       "      <td>0.87</td>\n",
       "      <td>3.33</td>\n",
       "      <td>1080.0</td>\n",
       "    </tr>\n",
       "    <tr>\n",
       "      <th>81</th>\n",
       "      <td>12.72</td>\n",
       "      <td>1.81</td>\n",
       "      <td>2.20</td>\n",
       "      <td>18.8</td>\n",
       "      <td>86.0</td>\n",
       "      <td>2.20</td>\n",
       "      <td>2.53</td>\n",
       "      <td>0.26</td>\n",
       "      <td>1.77</td>\n",
       "      <td>3.90</td>\n",
       "      <td>1.16</td>\n",
       "      <td>3.14</td>\n",
       "      <td>714.0</td>\n",
       "    </tr>\n",
       "    <tr>\n",
       "      <th>157</th>\n",
       "      <td>12.45</td>\n",
       "      <td>3.03</td>\n",
       "      <td>2.64</td>\n",
       "      <td>27.0</td>\n",
       "      <td>97.0</td>\n",
       "      <td>1.90</td>\n",
       "      <td>0.58</td>\n",
       "      <td>0.63</td>\n",
       "      <td>1.14</td>\n",
       "      <td>7.50</td>\n",
       "      <td>0.67</td>\n",
       "      <td>1.73</td>\n",
       "      <td>880.0</td>\n",
       "    </tr>\n",
       "    <tr>\n",
       "      <th>26</th>\n",
       "      <td>13.39</td>\n",
       "      <td>1.77</td>\n",
       "      <td>2.62</td>\n",
       "      <td>16.1</td>\n",
       "      <td>93.0</td>\n",
       "      <td>2.85</td>\n",
       "      <td>2.94</td>\n",
       "      <td>0.34</td>\n",
       "      <td>1.45</td>\n",
       "      <td>4.80</td>\n",
       "      <td>0.92</td>\n",
       "      <td>3.22</td>\n",
       "      <td>1195.0</td>\n",
       "    </tr>\n",
       "    <tr>\n",
       "      <th>74</th>\n",
       "      <td>11.96</td>\n",
       "      <td>1.09</td>\n",
       "      <td>2.30</td>\n",
       "      <td>21.0</td>\n",
       "      <td>101.0</td>\n",
       "      <td>3.38</td>\n",
       "      <td>2.14</td>\n",
       "      <td>0.13</td>\n",
       "      <td>1.65</td>\n",
       "      <td>3.21</td>\n",
       "      <td>0.99</td>\n",
       "      <td>3.13</td>\n",
       "      <td>886.0</td>\n",
       "    </tr>\n",
       "    <tr>\n",
       "      <th>1</th>\n",
       "      <td>13.20</td>\n",
       "      <td>1.78</td>\n",
       "      <td>2.14</td>\n",
       "      <td>11.2</td>\n",
       "      <td>100.0</td>\n",
       "      <td>2.65</td>\n",
       "      <td>2.76</td>\n",
       "      <td>0.26</td>\n",
       "      <td>1.28</td>\n",
       "      <td>4.38</td>\n",
       "      <td>1.05</td>\n",
       "      <td>3.40</td>\n",
       "      <td>1050.0</td>\n",
       "    </tr>\n",
       "    <tr>\n",
       "      <th>76</th>\n",
       "      <td>13.03</td>\n",
       "      <td>0.90</td>\n",
       "      <td>1.71</td>\n",
       "      <td>16.0</td>\n",
       "      <td>86.0</td>\n",
       "      <td>1.95</td>\n",
       "      <td>2.03</td>\n",
       "      <td>0.24</td>\n",
       "      <td>1.46</td>\n",
       "      <td>4.60</td>\n",
       "      <td>1.19</td>\n",
       "      <td>2.48</td>\n",
       "      <td>392.0</td>\n",
       "    </tr>\n",
       "    <tr>\n",
       "      <th>90</th>\n",
       "      <td>12.08</td>\n",
       "      <td>1.83</td>\n",
       "      <td>2.32</td>\n",
       "      <td>18.5</td>\n",
       "      <td>81.0</td>\n",
       "      <td>1.60</td>\n",
       "      <td>1.50</td>\n",
       "      <td>0.52</td>\n",
       "      <td>1.64</td>\n",
       "      <td>2.40</td>\n",
       "      <td>1.08</td>\n",
       "      <td>2.27</td>\n",
       "      <td>480.0</td>\n",
       "    </tr>\n",
       "    <tr>\n",
       "      <th>18</th>\n",
       "      <td>14.19</td>\n",
       "      <td>1.59</td>\n",
       "      <td>2.48</td>\n",
       "      <td>16.5</td>\n",
       "      <td>108.0</td>\n",
       "      <td>3.30</td>\n",
       "      <td>3.93</td>\n",
       "      <td>0.32</td>\n",
       "      <td>1.86</td>\n",
       "      <td>8.70</td>\n",
       "      <td>1.23</td>\n",
       "      <td>2.82</td>\n",
       "      <td>1680.0</td>\n",
       "    </tr>\n",
       "    <tr>\n",
       "      <th>170</th>\n",
       "      <td>12.20</td>\n",
       "      <td>3.03</td>\n",
       "      <td>2.32</td>\n",
       "      <td>19.0</td>\n",
       "      <td>96.0</td>\n",
       "      <td>1.25</td>\n",
       "      <td>0.49</td>\n",
       "      <td>0.40</td>\n",
       "      <td>0.73</td>\n",
       "      <td>5.50</td>\n",
       "      <td>0.66</td>\n",
       "      <td>1.83</td>\n",
       "      <td>510.0</td>\n",
       "    </tr>\n",
       "    <tr>\n",
       "      <th>166</th>\n",
       "      <td>13.45</td>\n",
       "      <td>3.70</td>\n",
       "      <td>2.60</td>\n",
       "      <td>23.0</td>\n",
       "      <td>111.0</td>\n",
       "      <td>1.70</td>\n",
       "      <td>0.92</td>\n",
       "      <td>0.43</td>\n",
       "      <td>1.46</td>\n",
       "      <td>10.68</td>\n",
       "      <td>0.85</td>\n",
       "      <td>1.56</td>\n",
       "      <td>695.0</td>\n",
       "    </tr>\n",
       "    <tr>\n",
       "      <th>33</th>\n",
       "      <td>13.76</td>\n",
       "      <td>1.53</td>\n",
       "      <td>2.70</td>\n",
       "      <td>19.5</td>\n",
       "      <td>132.0</td>\n",
       "      <td>2.95</td>\n",
       "      <td>2.74</td>\n",
       "      <td>0.50</td>\n",
       "      <td>1.35</td>\n",
       "      <td>5.40</td>\n",
       "      <td>1.25</td>\n",
       "      <td>3.00</td>\n",
       "      <td>1235.0</td>\n",
       "    </tr>\n",
       "    <tr>\n",
       "      <th>105</th>\n",
       "      <td>12.42</td>\n",
       "      <td>2.55</td>\n",
       "      <td>2.27</td>\n",
       "      <td>22.0</td>\n",
       "      <td>90.0</td>\n",
       "      <td>1.68</td>\n",
       "      <td>1.84</td>\n",
       "      <td>0.66</td>\n",
       "      <td>1.42</td>\n",
       "      <td>2.70</td>\n",
       "      <td>0.86</td>\n",
       "      <td>3.30</td>\n",
       "      <td>315.0</td>\n",
       "    </tr>\n",
       "    <tr>\n",
       "      <th>48</th>\n",
       "      <td>14.10</td>\n",
       "      <td>2.02</td>\n",
       "      <td>2.40</td>\n",
       "      <td>18.8</td>\n",
       "      <td>103.0</td>\n",
       "      <td>2.75</td>\n",
       "      <td>2.92</td>\n",
       "      <td>0.32</td>\n",
       "      <td>2.38</td>\n",
       "      <td>6.20</td>\n",
       "      <td>1.07</td>\n",
       "      <td>2.75</td>\n",
       "      <td>1060.0</td>\n",
       "    </tr>\n",
       "    <tr>\n",
       "      <th>102</th>\n",
       "      <td>12.34</td>\n",
       "      <td>2.45</td>\n",
       "      <td>2.46</td>\n",
       "      <td>21.0</td>\n",
       "      <td>98.0</td>\n",
       "      <td>2.56</td>\n",
       "      <td>2.11</td>\n",
       "      <td>0.34</td>\n",
       "      <td>1.31</td>\n",
       "      <td>2.80</td>\n",
       "      <td>0.80</td>\n",
       "      <td>3.38</td>\n",
       "      <td>438.0</td>\n",
       "    </tr>\n",
       "    <tr>\n",
       "      <th>93</th>\n",
       "      <td>12.29</td>\n",
       "      <td>2.83</td>\n",
       "      <td>2.22</td>\n",
       "      <td>18.0</td>\n",
       "      <td>88.0</td>\n",
       "      <td>2.45</td>\n",
       "      <td>2.25</td>\n",
       "      <td>0.25</td>\n",
       "      <td>1.99</td>\n",
       "      <td>2.15</td>\n",
       "      <td>1.15</td>\n",
       "      <td>3.30</td>\n",
       "      <td>290.0</td>\n",
       "    </tr>\n",
       "    <tr>\n",
       "      <th>156</th>\n",
       "      <td>13.84</td>\n",
       "      <td>4.12</td>\n",
       "      <td>2.38</td>\n",
       "      <td>19.5</td>\n",
       "      <td>89.0</td>\n",
       "      <td>1.80</td>\n",
       "      <td>0.83</td>\n",
       "      <td>0.48</td>\n",
       "      <td>1.56</td>\n",
       "      <td>9.01</td>\n",
       "      <td>0.57</td>\n",
       "      <td>1.64</td>\n",
       "      <td>480.0</td>\n",
       "    </tr>\n",
       "    <tr>\n",
       "      <th>91</th>\n",
       "      <td>12.00</td>\n",
       "      <td>1.51</td>\n",
       "      <td>2.42</td>\n",
       "      <td>22.0</td>\n",
       "      <td>86.0</td>\n",
       "      <td>1.45</td>\n",
       "      <td>1.25</td>\n",
       "      <td>0.50</td>\n",
       "      <td>1.63</td>\n",
       "      <td>3.60</td>\n",
       "      <td>1.05</td>\n",
       "      <td>2.65</td>\n",
       "      <td>450.0</td>\n",
       "    </tr>\n",
       "    <tr>\n",
       "      <th>165</th>\n",
       "      <td>13.73</td>\n",
       "      <td>4.36</td>\n",
       "      <td>2.26</td>\n",
       "      <td>22.5</td>\n",
       "      <td>88.0</td>\n",
       "      <td>1.28</td>\n",
       "      <td>0.47</td>\n",
       "      <td>0.52</td>\n",
       "      <td>1.15</td>\n",
       "      <td>6.62</td>\n",
       "      <td>0.78</td>\n",
       "      <td>1.75</td>\n",
       "      <td>520.0</td>\n",
       "    </tr>\n",
       "    <tr>\n",
       "      <th>124</th>\n",
       "      <td>11.87</td>\n",
       "      <td>4.31</td>\n",
       "      <td>2.39</td>\n",
       "      <td>21.0</td>\n",
       "      <td>82.0</td>\n",
       "      <td>2.86</td>\n",
       "      <td>3.03</td>\n",
       "      <td>0.21</td>\n",
       "      <td>2.91</td>\n",
       "      <td>2.80</td>\n",
       "      <td>0.75</td>\n",
       "      <td>3.64</td>\n",
       "      <td>380.0</td>\n",
       "    </tr>\n",
       "    <tr>\n",
       "      <th>168</th>\n",
       "      <td>13.58</td>\n",
       "      <td>2.58</td>\n",
       "      <td>2.69</td>\n",
       "      <td>24.5</td>\n",
       "      <td>105.0</td>\n",
       "      <td>1.55</td>\n",
       "      <td>0.84</td>\n",
       "      <td>0.39</td>\n",
       "      <td>1.54</td>\n",
       "      <td>8.66</td>\n",
       "      <td>0.74</td>\n",
       "      <td>1.80</td>\n",
       "      <td>750.0</td>\n",
       "    </tr>\n",
       "    <tr>\n",
       "      <th>6</th>\n",
       "      <td>14.39</td>\n",
       "      <td>1.87</td>\n",
       "      <td>2.45</td>\n",
       "      <td>14.6</td>\n",
       "      <td>96.0</td>\n",
       "      <td>2.50</td>\n",
       "      <td>2.52</td>\n",
       "      <td>0.30</td>\n",
       "      <td>1.98</td>\n",
       "      <td>5.25</td>\n",
       "      <td>1.02</td>\n",
       "      <td>3.58</td>\n",
       "      <td>1290.0</td>\n",
       "    </tr>\n",
       "    <tr>\n",
       "      <th>134</th>\n",
       "      <td>12.51</td>\n",
       "      <td>1.24</td>\n",
       "      <td>2.25</td>\n",
       "      <td>17.5</td>\n",
       "      <td>85.0</td>\n",
       "      <td>2.00</td>\n",
       "      <td>0.58</td>\n",
       "      <td>0.60</td>\n",
       "      <td>1.25</td>\n",
       "      <td>5.45</td>\n",
       "      <td>0.75</td>\n",
       "      <td>1.51</td>\n",
       "      <td>650.0</td>\n",
       "    </tr>\n",
       "    <tr>\n",
       "      <th>69</th>\n",
       "      <td>12.21</td>\n",
       "      <td>1.19</td>\n",
       "      <td>1.75</td>\n",
       "      <td>16.8</td>\n",
       "      <td>151.0</td>\n",
       "      <td>1.85</td>\n",
       "      <td>1.28</td>\n",
       "      <td>0.14</td>\n",
       "      <td>2.50</td>\n",
       "      <td>2.85</td>\n",
       "      <td>1.28</td>\n",
       "      <td>3.07</td>\n",
       "      <td>718.0</td>\n",
       "    </tr>\n",
       "    <tr>\n",
       "      <th>92</th>\n",
       "      <td>12.69</td>\n",
       "      <td>1.53</td>\n",
       "      <td>2.26</td>\n",
       "      <td>20.7</td>\n",
       "      <td>80.0</td>\n",
       "      <td>1.38</td>\n",
       "      <td>1.46</td>\n",
       "      <td>0.58</td>\n",
       "      <td>1.62</td>\n",
       "      <td>3.05</td>\n",
       "      <td>0.96</td>\n",
       "      <td>2.06</td>\n",
       "      <td>495.0</td>\n",
       "    </tr>\n",
       "    <tr>\n",
       "      <th>143</th>\n",
       "      <td>13.62</td>\n",
       "      <td>4.95</td>\n",
       "      <td>2.35</td>\n",
       "      <td>20.0</td>\n",
       "      <td>92.0</td>\n",
       "      <td>2.00</td>\n",
       "      <td>0.80</td>\n",
       "      <td>0.47</td>\n",
       "      <td>1.02</td>\n",
       "      <td>4.40</td>\n",
       "      <td>0.91</td>\n",
       "      <td>2.05</td>\n",
       "      <td>550.0</td>\n",
       "    </tr>\n",
       "    <tr>\n",
       "      <th>144</th>\n",
       "      <td>12.25</td>\n",
       "      <td>3.88</td>\n",
       "      <td>2.20</td>\n",
       "      <td>18.5</td>\n",
       "      <td>112.0</td>\n",
       "      <td>1.38</td>\n",
       "      <td>0.78</td>\n",
       "      <td>0.29</td>\n",
       "      <td>1.14</td>\n",
       "      <td>8.21</td>\n",
       "      <td>0.65</td>\n",
       "      <td>2.00</td>\n",
       "      <td>855.0</td>\n",
       "    </tr>\n",
       "    <tr>\n",
       "      <th>47</th>\n",
       "      <td>13.90</td>\n",
       "      <td>1.68</td>\n",
       "      <td>2.12</td>\n",
       "      <td>16.0</td>\n",
       "      <td>101.0</td>\n",
       "      <td>3.10</td>\n",
       "      <td>3.39</td>\n",
       "      <td>0.21</td>\n",
       "      <td>2.14</td>\n",
       "      <td>6.10</td>\n",
       "      <td>0.91</td>\n",
       "      <td>3.33</td>\n",
       "      <td>985.0</td>\n",
       "    </tr>\n",
       "    <tr>\n",
       "      <th>77</th>\n",
       "      <td>11.84</td>\n",
       "      <td>2.89</td>\n",
       "      <td>2.23</td>\n",
       "      <td>18.0</td>\n",
       "      <td>112.0</td>\n",
       "      <td>1.72</td>\n",
       "      <td>1.32</td>\n",
       "      <td>0.43</td>\n",
       "      <td>0.95</td>\n",
       "      <td>2.65</td>\n",
       "      <td>0.96</td>\n",
       "      <td>2.52</td>\n",
       "      <td>500.0</td>\n",
       "    </tr>\n",
       "    <tr>\n",
       "      <th>12</th>\n",
       "      <td>13.75</td>\n",
       "      <td>1.73</td>\n",
       "      <td>2.41</td>\n",
       "      <td>16.0</td>\n",
       "      <td>89.0</td>\n",
       "      <td>2.60</td>\n",
       "      <td>2.76</td>\n",
       "      <td>0.29</td>\n",
       "      <td>1.81</td>\n",
       "      <td>5.60</td>\n",
       "      <td>1.15</td>\n",
       "      <td>2.90</td>\n",
       "      <td>1320.0</td>\n",
       "    </tr>\n",
       "    <tr>\n",
       "      <th>113</th>\n",
       "      <td>11.41</td>\n",
       "      <td>0.74</td>\n",
       "      <td>2.50</td>\n",
       "      <td>21.0</td>\n",
       "      <td>88.0</td>\n",
       "      <td>2.48</td>\n",
       "      <td>2.01</td>\n",
       "      <td>0.42</td>\n",
       "      <td>1.44</td>\n",
       "      <td>3.08</td>\n",
       "      <td>1.10</td>\n",
       "      <td>2.31</td>\n",
       "      <td>434.0</td>\n",
       "    </tr>\n",
       "    <tr>\n",
       "      <th>167</th>\n",
       "      <td>12.82</td>\n",
       "      <td>3.37</td>\n",
       "      <td>2.30</td>\n",
       "      <td>19.5</td>\n",
       "      <td>88.0</td>\n",
       "      <td>1.48</td>\n",
       "      <td>0.66</td>\n",
       "      <td>0.40</td>\n",
       "      <td>0.97</td>\n",
       "      <td>10.26</td>\n",
       "      <td>0.72</td>\n",
       "      <td>1.75</td>\n",
       "      <td>685.0</td>\n",
       "    </tr>\n",
       "    <tr>\n",
       "      <th>140</th>\n",
       "      <td>12.93</td>\n",
       "      <td>2.81</td>\n",
       "      <td>2.70</td>\n",
       "      <td>21.0</td>\n",
       "      <td>96.0</td>\n",
       "      <td>1.54</td>\n",
       "      <td>0.50</td>\n",
       "      <td>0.53</td>\n",
       "      <td>0.75</td>\n",
       "      <td>4.60</td>\n",
       "      <td>0.77</td>\n",
       "      <td>2.31</td>\n",
       "      <td>600.0</td>\n",
       "    </tr>\n",
       "  </tbody>\n",
       "</table>\n",
       "</div>"
      ],
      "text/plain": [
       "     Alcohol  Malic acid   Ash  Alcalinity of ash  Magnesium  Total phenols  \\\n",
       "163    12.96        3.45  2.35               18.5      106.0           1.39   \n",
       "142    13.52        3.17  2.72               23.5       97.0           1.55   \n",
       "14     14.38        1.87  2.38               12.0      102.0           3.30   \n",
       "45     14.21        4.04  2.44               18.9      111.0           2.85   \n",
       "81     12.72        1.81  2.20               18.8       86.0           2.20   \n",
       "157    12.45        3.03  2.64               27.0       97.0           1.90   \n",
       "26     13.39        1.77  2.62               16.1       93.0           2.85   \n",
       "74     11.96        1.09  2.30               21.0      101.0           3.38   \n",
       "1      13.20        1.78  2.14               11.2      100.0           2.65   \n",
       "76     13.03        0.90  1.71               16.0       86.0           1.95   \n",
       "90     12.08        1.83  2.32               18.5       81.0           1.60   \n",
       "18     14.19        1.59  2.48               16.5      108.0           3.30   \n",
       "170    12.20        3.03  2.32               19.0       96.0           1.25   \n",
       "166    13.45        3.70  2.60               23.0      111.0           1.70   \n",
       "33     13.76        1.53  2.70               19.5      132.0           2.95   \n",
       "105    12.42        2.55  2.27               22.0       90.0           1.68   \n",
       "48     14.10        2.02  2.40               18.8      103.0           2.75   \n",
       "102    12.34        2.45  2.46               21.0       98.0           2.56   \n",
       "93     12.29        2.83  2.22               18.0       88.0           2.45   \n",
       "156    13.84        4.12  2.38               19.5       89.0           1.80   \n",
       "91     12.00        1.51  2.42               22.0       86.0           1.45   \n",
       "165    13.73        4.36  2.26               22.5       88.0           1.28   \n",
       "124    11.87        4.31  2.39               21.0       82.0           2.86   \n",
       "168    13.58        2.58  2.69               24.5      105.0           1.55   \n",
       "6      14.39        1.87  2.45               14.6       96.0           2.50   \n",
       "134    12.51        1.24  2.25               17.5       85.0           2.00   \n",
       "69     12.21        1.19  1.75               16.8      151.0           1.85   \n",
       "92     12.69        1.53  2.26               20.7       80.0           1.38   \n",
       "143    13.62        4.95  2.35               20.0       92.0           2.00   \n",
       "144    12.25        3.88  2.20               18.5      112.0           1.38   \n",
       "47     13.90        1.68  2.12               16.0      101.0           3.10   \n",
       "77     11.84        2.89  2.23               18.0      112.0           1.72   \n",
       "12     13.75        1.73  2.41               16.0       89.0           2.60   \n",
       "113    11.41        0.74  2.50               21.0       88.0           2.48   \n",
       "167    12.82        3.37  2.30               19.5       88.0           1.48   \n",
       "140    12.93        2.81  2.70               21.0       96.0           1.54   \n",
       "\n",
       "     Flavanoids  Nonflavanoid phenols  Proanthocyanins  Color intensity   Hue  \\\n",
       "163        0.70                  0.40             0.94             5.28  0.68   \n",
       "142        0.52                  0.50             0.55             4.35  0.89   \n",
       "14         3.64                  0.29             2.96             7.50  1.20   \n",
       "45         2.65                  0.30             1.25             5.24  0.87   \n",
       "81         2.53                  0.26             1.77             3.90  1.16   \n",
       "157        0.58                  0.63             1.14             7.50  0.67   \n",
       "26         2.94                  0.34             1.45             4.80  0.92   \n",
       "74         2.14                  0.13             1.65             3.21  0.99   \n",
       "1          2.76                  0.26             1.28             4.38  1.05   \n",
       "76         2.03                  0.24             1.46             4.60  1.19   \n",
       "90         1.50                  0.52             1.64             2.40  1.08   \n",
       "18         3.93                  0.32             1.86             8.70  1.23   \n",
       "170        0.49                  0.40             0.73             5.50  0.66   \n",
       "166        0.92                  0.43             1.46            10.68  0.85   \n",
       "33         2.74                  0.50             1.35             5.40  1.25   \n",
       "105        1.84                  0.66             1.42             2.70  0.86   \n",
       "48         2.92                  0.32             2.38             6.20  1.07   \n",
       "102        2.11                  0.34             1.31             2.80  0.80   \n",
       "93         2.25                  0.25             1.99             2.15  1.15   \n",
       "156        0.83                  0.48             1.56             9.01  0.57   \n",
       "91         1.25                  0.50             1.63             3.60  1.05   \n",
       "165        0.47                  0.52             1.15             6.62  0.78   \n",
       "124        3.03                  0.21             2.91             2.80  0.75   \n",
       "168        0.84                  0.39             1.54             8.66  0.74   \n",
       "6          2.52                  0.30             1.98             5.25  1.02   \n",
       "134        0.58                  0.60             1.25             5.45  0.75   \n",
       "69         1.28                  0.14             2.50             2.85  1.28   \n",
       "92         1.46                  0.58             1.62             3.05  0.96   \n",
       "143        0.80                  0.47             1.02             4.40  0.91   \n",
       "144        0.78                  0.29             1.14             8.21  0.65   \n",
       "47         3.39                  0.21             2.14             6.10  0.91   \n",
       "77         1.32                  0.43             0.95             2.65  0.96   \n",
       "12         2.76                  0.29             1.81             5.60  1.15   \n",
       "113        2.01                  0.42             1.44             3.08  1.10   \n",
       "167        0.66                  0.40             0.97            10.26  0.72   \n",
       "140        0.50                  0.53             0.75             4.60  0.77   \n",
       "\n",
       "     OD280/OD315 of diluted wines  Proline  \n",
       "163                          1.75    675.0  \n",
       "142                          2.06    520.0  \n",
       "14                           3.00   1547.0  \n",
       "45                           3.33   1080.0  \n",
       "81                           3.14    714.0  \n",
       "157                          1.73    880.0  \n",
       "26                           3.22   1195.0  \n",
       "74                           3.13    886.0  \n",
       "1                            3.40   1050.0  \n",
       "76                           2.48    392.0  \n",
       "90                           2.27    480.0  \n",
       "18                           2.82   1680.0  \n",
       "170                          1.83    510.0  \n",
       "166                          1.56    695.0  \n",
       "33                           3.00   1235.0  \n",
       "105                          3.30    315.0  \n",
       "48                           2.75   1060.0  \n",
       "102                          3.38    438.0  \n",
       "93                           3.30    290.0  \n",
       "156                          1.64    480.0  \n",
       "91                           2.65    450.0  \n",
       "165                          1.75    520.0  \n",
       "124                          3.64    380.0  \n",
       "168                          1.80    750.0  \n",
       "6                            3.58   1290.0  \n",
       "134                          1.51    650.0  \n",
       "69                           3.07    718.0  \n",
       "92                           2.06    495.0  \n",
       "143                          2.05    550.0  \n",
       "144                          2.00    855.0  \n",
       "47                           3.33    985.0  \n",
       "77                           2.52    500.0  \n",
       "12                           2.90   1320.0  \n",
       "113                          2.31    434.0  \n",
       "167                          1.75    685.0  \n",
       "140                          2.31    600.0  "
      ]
     },
     "execution_count": 17,
     "metadata": {},
     "output_type": "execute_result"
    }
   ],
   "source": [
    "x_test"
   ]
  },
  {
   "cell_type": "code",
   "execution_count": 18,
   "id": "fcf5120a",
   "metadata": {},
   "outputs": [
    {
     "data": {
      "text/plain": [
       "16     1.0\n",
       "19     1.0\n",
       "2      1.0\n",
       "159    3.0\n",
       "135    3.0\n",
       "      ... \n",
       "87     2.0\n",
       "104    2.0\n",
       "129    2.0\n",
       "174    3.0\n",
       "122    2.0\n",
       "Name: Class, Length: 142, dtype: float64"
      ]
     },
     "execution_count": 18,
     "metadata": {},
     "output_type": "execute_result"
    }
   ],
   "source": [
    "y_train"
   ]
  },
  {
   "cell_type": "code",
   "execution_count": 19,
   "id": "5b1bb274",
   "metadata": {
    "scrolled": true
   },
   "outputs": [
    {
     "data": {
      "text/plain": [
       "163    3.0\n",
       "142    3.0\n",
       "14     1.0\n",
       "45     1.0\n",
       "81     2.0\n",
       "157    3.0\n",
       "26     1.0\n",
       "74     2.0\n",
       "1      1.0\n",
       "76     2.0\n",
       "90     2.0\n",
       "18     1.0\n",
       "170    3.0\n",
       "166    3.0\n",
       "33     1.0\n",
       "105    2.0\n",
       "48     1.0\n",
       "102    2.0\n",
       "93     2.0\n",
       "156    3.0\n",
       "91     2.0\n",
       "165    3.0\n",
       "124    2.0\n",
       "168    3.0\n",
       "6      1.0\n",
       "134    3.0\n",
       "69     2.0\n",
       "92     2.0\n",
       "143    3.0\n",
       "144    3.0\n",
       "47     1.0\n",
       "77     2.0\n",
       "12     1.0\n",
       "113    2.0\n",
       "167    3.0\n",
       "140    3.0\n",
       "Name: Class, dtype: float64"
      ]
     },
     "execution_count": 19,
     "metadata": {},
     "output_type": "execute_result"
    }
   ],
   "source": [
    "y_test"
   ]
  },
  {
   "cell_type": "markdown",
   "id": "fdb7a8ee",
   "metadata": {},
   "source": [
    "---"
   ]
  },
  {
   "cell_type": "markdown",
   "id": "1c118a9a",
   "metadata": {},
   "source": [
    "# Ejercicio 1\n",
    "Crea por lo menos dos modelos de clasificación diferentes para intentar predecir lo mejor las clases del archivo adjunto.\n",
    "\n",
    "---\n",
    "-Regresión logística\n",
    "\n",
    "-SVM"
   ]
  },
  {
   "cell_type": "code",
   "execution_count": 20,
   "id": "4f5a22bd",
   "metadata": {},
   "outputs": [],
   "source": [
    "from sklearn import svm\n",
    "from sklearn.linear_model import LogisticRegression"
   ]
  },
  {
   "cell_type": "code",
   "execution_count": 21,
   "id": "f5d6279f",
   "metadata": {},
   "outputs": [],
   "source": [
    "logreg = LogisticRegression(random_state=16)"
   ]
  },
  {
   "cell_type": "code",
   "execution_count": 22,
   "id": "66071a24",
   "metadata": {},
   "outputs": [],
   "source": [
    "clf = svm.SVC()"
   ]
  },
  {
   "cell_type": "code",
   "execution_count": 23,
   "id": "6c4c83bc",
   "metadata": {},
   "outputs": [
    {
     "name": "stderr",
     "output_type": "stream",
     "text": [
      "D:\\users\\ciberintegra_14\\Anaconda3\\lib\\site-packages\\sklearn\\linear_model\\_logistic.py:814: ConvergenceWarning: lbfgs failed to converge (status=1):\n",
      "STOP: TOTAL NO. of ITERATIONS REACHED LIMIT.\n",
      "\n",
      "Increase the number of iterations (max_iter) or scale the data as shown in:\n",
      "    https://scikit-learn.org/stable/modules/preprocessing.html\n",
      "Please also refer to the documentation for alternative solver options:\n",
      "    https://scikit-learn.org/stable/modules/linear_model.html#logistic-regression\n",
      "  n_iter_i = _check_optimize_result(\n"
     ]
    },
    {
     "data": {
      "text/plain": [
       "LogisticRegression(random_state=16)"
      ]
     },
     "execution_count": 23,
     "metadata": {},
     "output_type": "execute_result"
    }
   ],
   "source": [
    "logreg.fit(x_train, y_train)"
   ]
  },
  {
   "cell_type": "code",
   "execution_count": 24,
   "id": "4fec1a35",
   "metadata": {},
   "outputs": [
    {
     "data": {
      "text/plain": [
       "SVC()"
      ]
     },
     "execution_count": 24,
     "metadata": {},
     "output_type": "execute_result"
    }
   ],
   "source": [
    "clf.fit(x_train, y_train)"
   ]
  },
  {
   "cell_type": "code",
   "execution_count": 25,
   "id": "5fcaad33",
   "metadata": {},
   "outputs": [],
   "source": [
    "pre_log = logreg.predict(x_test)\n",
    "pre_clf = clf.predict(x_test)"
   ]
  },
  {
   "cell_type": "code",
   "execution_count": 26,
   "id": "4ef123ff",
   "metadata": {},
   "outputs": [
    {
     "data": {
      "text/plain": [
       "array([3., 2., 1., 1., 2., 3., 1., 1., 1., 2., 2., 1., 3., 3., 1., 2., 1.,\n",
       "       2., 2., 3., 2., 3., 2., 3., 1., 3., 2., 2., 3., 3., 1., 2., 1., 2.,\n",
       "       3., 3.])"
      ]
     },
     "execution_count": 26,
     "metadata": {},
     "output_type": "execute_result"
    }
   ],
   "source": [
    "pre_log"
   ]
  },
  {
   "cell_type": "code",
   "execution_count": 27,
   "id": "7ab43fb3",
   "metadata": {},
   "outputs": [
    {
     "data": {
      "text/plain": [
       "array([2., 2., 1., 1., 2., 1., 1., 1., 1., 2., 2., 1., 2., 2., 1., 2., 1.,\n",
       "       2., 2., 2., 2., 2., 2., 2., 1., 2., 2., 2., 2., 1., 1., 2., 1., 2.,\n",
       "       2., 2.])"
      ]
     },
     "execution_count": 27,
     "metadata": {},
     "output_type": "execute_result"
    }
   ],
   "source": [
    "pre_clf"
   ]
  },
  {
   "cell_type": "markdown",
   "id": "5ae3e81c",
   "metadata": {},
   "source": [
    "Ya tenemos nuestros modelos entrenados, y estas son sus predicciones con los datos de x_test.\n",
    "\n",
    "Y aunque podriamos compararlos con los datos reales para conocer que tan eficientes son, hay una manera más sencilla."
   ]
  },
  {
   "cell_type": "markdown",
   "id": "371fde73",
   "metadata": {},
   "source": [
    "---\n",
    "# Ejercicio 2\n",
    "Compara los modelos de clasificación utilizando la precisión (accuracy), una matriz de confusión y otras métricas más avanzadas."
   ]
  },
  {
   "cell_type": "code",
   "execution_count": 28,
   "id": "1569197d",
   "metadata": {},
   "outputs": [],
   "source": [
    "from sklearn.metrics import confusion_matrix, accuracy_score, precision_score, recall_score, f1_score"
   ]
  },
  {
   "cell_type": "code",
   "execution_count": 29,
   "id": "58b424c8",
   "metadata": {},
   "outputs": [
    {
     "name": "stdout",
     "output_type": "stream",
     "text": [
      "Regresión Logistica 0.9444444444444444\n"
     ]
    }
   ],
   "source": [
    "print('Regresión Logistica', accuracy_score(y_test, pre_log))"
   ]
  },
  {
   "cell_type": "code",
   "execution_count": 30,
   "id": "d66e05d7",
   "metadata": {},
   "outputs": [],
   "source": [
    "score_log = accuracy_score(y_test, pre_log)"
   ]
  },
  {
   "cell_type": "code",
   "execution_count": 31,
   "id": "1b2d0dee",
   "metadata": {},
   "outputs": [
    {
     "name": "stdout",
     "output_type": "stream",
     "text": [
      "SMV 0.6111111111111112\n"
     ]
    }
   ],
   "source": [
    "print('SMV', accuracy_score(y_test, pre_clf))"
   ]
  },
  {
   "cell_type": "code",
   "execution_count": 32,
   "id": "b3e7d297",
   "metadata": {},
   "outputs": [],
   "source": [
    "score_clf = accuracy_score(y_test, pre_clf)"
   ]
  },
  {
   "cell_type": "markdown",
   "id": "99e5eef0",
   "metadata": {},
   "source": [
    "La métrica accuracy representa el porcentaje total de valores correctamente clasificados, tanto positivos como negativos. Es decir, la regresión logistica optuvo un 94% de aciertos, mientras que SMV un 61%. Esta claro cual es mejor, pero vamos a hacer más pruebas."
   ]
  },
  {
   "cell_type": "code",
   "execution_count": 33,
   "id": "11aa1afe",
   "metadata": {},
   "outputs": [],
   "source": [
    "Pruebas = [('Precisión', precision_score), ('Recall', recall_score), ('F1', f1_score)]\n"
   ]
  },
  {
   "cell_type": "code",
   "execution_count": 34,
   "id": "95093cc2",
   "metadata": {},
   "outputs": [
    {
     "name": "stdout",
     "output_type": "stream",
     "text": [
      "Precisión \n",
      " Regresión Logistica 0.9440559440559441 \n",
      " SMV 0.4303232998885173 \n",
      "\n",
      "Recall \n",
      " Regresión Logistica 0.9487179487179488 \n",
      " SMV 0.6410256410256411 \n",
      "\n",
      "F1 \n",
      " Regresión Logistica 0.9451526251526251 \n",
      " SMV 0.5120772946859904 \n",
      "\n"
     ]
    },
    {
     "name": "stderr",
     "output_type": "stream",
     "text": [
      "D:\\users\\ciberintegra_14\\Anaconda3\\lib\\site-packages\\sklearn\\metrics\\_classification.py:1318: UndefinedMetricWarning: Precision is ill-defined and being set to 0.0 in labels with no predicted samples. Use `zero_division` parameter to control this behavior.\n",
      "  _warn_prf(average, modifier, msg_start, len(result))\n"
     ]
    }
   ],
   "source": [
    "for metrica, formula in Pruebas:\n",
    "    print(metrica, '\\n', 'Regresión Logistica', formula(y_test, pre_log, average='macro'), '\\n', 'SMV', formula(y_test, pre_clf, average='macro'), '\\n')"
   ]
  },
  {
   "cell_type": "code",
   "execution_count": 84,
   "id": "28262773",
   "metadata": {},
   "outputs": [
    {
     "name": "stderr",
     "output_type": "stream",
     "text": [
      "D:\\users\\ciberintegra_14\\Anaconda3\\lib\\site-packages\\sklearn\\metrics\\_classification.py:1318: UndefinedMetricWarning: Precision is ill-defined and being set to 0.0 in labels with no predicted samples. Use `zero_division` parameter to control this behavior.\n",
      "  _warn_prf(average, modifier, msg_start, len(result))\n"
     ]
    },
    {
     "data": {
      "text/plain": [
       "<matplotlib.legend.Legend at 0x1d48536ce50>"
      ]
     },
     "execution_count": 84,
     "metadata": {},
     "output_type": "execute_result"
    },
    {
     "data": {
      "image/png": "[encoded data removed]",
      "text/plain": [
       "<Figure size 1000x600 with 1 Axes>"
      ]
     },
     "metadata": {},
     "output_type": "display_data"
    }
   ],
   "source": [
    "metricas = ['Precisión', 'Recall', 'F1']\n",
    "resultados_log = [precision_score(y_test, pre_log, average='macro'),\n",
    "                  recall_score(y_test, pre_log, average='macro'),\n",
    "                  f1_score(y_test, pre_log, average='macro')]\n",
    "\n",
    "resultados_svm = [precision_score(y_test, pre_clf, average='macro'),\n",
    "                  recall_score(y_test, pre_clf, average='macro'),\n",
    "                  f1_score(y_test, pre_clf, average='macro')]\n",
    "\n",
    "bar_width = 0.35\n",
    "index = np.arange(len(metricas))\n",
    "\n",
    "fig, ax = plt.subplots(figsize=(10, 6))\n",
    "bar1 = ax.bar(index, resultados_log, bar_width, label='Regresión Logística')\n",
    "bar2 = ax.bar(index + bar_width, resultados_svm, bar_width, label='SVM')\n",
    "\n",
    "ax.set_xlabel('Métricas')\n",
    "ax.set_ylabel('Resultados')\n",
    "ax.set_title('Comparación de Métricas entre Modelos')\n",
    "ax.set_xticks(index + bar_width / 2)\n",
    "ax.set_xticklabels(metricas)\n",
    "ax.legend()"
   ]
  },
  {
   "cell_type": "markdown",
   "id": "1bab507b",
   "metadata": {},
   "source": [
    "La métrica de precisión es utilizada para poder saber qué porcentaje de valores que se han clasificado como positivos son realmente positivos.\n",
    "\n",
    "La métrica de recall, también conocida como el ratio de verdaderos positivos, es utilizada para saber cuantos valores positivos son correctamente clasificados.\n",
    "\n",
    "Esta es una métrica muy utilizada en problemas en los que el conjunto de datos a analizar está desbalanceado. Esta métrica combina el precision y el recall, para obtener un valor mucho más objetivo.\n",
    "\n",
    "---\n",
    "\n",
    "Observando los datos, podemos llegar a conclusiones bastante similares a los de accurecy, lo más notable es que SMV tiene un F1 a la mitad, es decir, el modelo es bastante malo."
   ]
  },
  {
   "cell_type": "code",
   "execution_count": 35,
   "id": "7d0b9281",
   "metadata": {},
   "outputs": [],
   "source": [
    "cm_log = confusion_matrix(y_test, pre_log)"
   ]
  },
  {
   "cell_type": "code",
   "execution_count": 36,
   "id": "40f2225c",
   "metadata": {},
   "outputs": [],
   "source": [
    "cm_clf = confusion_matrix(y_test, pre_clf)"
   ]
  },
  {
   "cell_type": "code",
   "execution_count": 37,
   "id": "61700b5a",
   "metadata": {},
   "outputs": [
    {
     "data": {
      "image/png": "[encoded data removed]",
      "text/plain": [
       "<Figure size 900x900 with 2 Axes>"
      ]
     },
     "metadata": {},
     "output_type": "display_data"
    }
   ],
   "source": [
    "plt.figure(figsize=(9, 9))\n",
    "sns.heatmap(cm_log, annot=True, linewidths=.5, square=True);\n",
    "\n",
    "plt.xticks(ticks=[i + 0.5 for i in range(cm_log.shape[1])], labels=range(1, cm_log.shape[1] + 1), ha='center')\n",
    "\n",
    "plt.yticks(ticks=[i + 0.5 for i in range(cm_log.shape[0])], labels=range(1, cm_log.shape[0] + 1), va='center')\n",
    "\n",
    "plt.ylabel('Actual label')\n",
    "plt.xlabel('Predicted label')\n",
    "all_sample_title = 'Regresión logistica \\n Accuracy Score: {0}'.format(score_log)\n",
    "plt.title(all_sample_title, size=15)\n",
    "\n",
    "plt.tight_layout()\n",
    "\n",
    "plt.show()"
   ]
  },
  {
   "cell_type": "markdown",
   "id": "580e845a",
   "metadata": {},
   "source": [
    "Visto en el heatmap, vemos un resumen más claro de lo que esta pasando.\n",
    "\n",
    "Si el los números de ambas orientaciones coinciden entonces el valor predecido fue correcto. Y los colores que se muestran ayudan a orientarnos mejor.\n",
    "\n",
    "Podemos observar como casi todas de las predicciones fueron correctas, (tal y como nos aticiparon los calculos). Aún así ahora podemos ver donde exactamente fue donde fallo nuestro modelo: en una ocación predijo 2 en lugar de 3 y en otra predijo 1 cuando era 2."
   ]
  },
  {
   "cell_type": "code",
   "execution_count": 38,
   "id": "577567ab",
   "metadata": {},
   "outputs": [
    {
     "data": {
      "image/png": "[encoded data removed]",
      "text/plain": [
       "<Figure size 900x900 with 2 Axes>"
      ]
     },
     "metadata": {},
     "output_type": "display_data"
    }
   ],
   "source": [
    "plt.figure(figsize=(9, 9))\n",
    "sns.heatmap(cm_clf, annot=True, linewidths=.5, square=True, cmap='crest');\n",
    "\n",
    "plt.xticks(ticks=[i + 0.5 for i in range(cm_clf.shape[1])], labels=range(1, cm_clf.shape[1] + 1), ha='center')\n",
    "\n",
    "plt.yticks(ticks=[i + 0.5 for i in range(cm_clf.shape[0])], labels=range(1, cm_clf.shape[0] + 1), va='center')\n",
    "\n",
    "plt.ylabel('Actual label')\n",
    "plt.xlabel('Predicted label')\n",
    "all_sample_title = 'SMV \\n Accuracy Score: {0}'.format(score_clf)\n",
    "plt.title(all_sample_title, size=15)\n",
    "\n",
    "plt.tight_layout()\n",
    "\n",
    "plt.show()"
   ]
  },
  {
   "cell_type": "markdown",
   "id": "569bbe50",
   "metadata": {},
   "source": [
    "Ahora en SMV podemos ver donde estan los problemas, el modelo parece tener problemas al predecir 3, ya que nunca afirmo que fuera 3 ni siquiera para equivocarse. Parece confundirlo mucho con el 2.\n",
    "\n",
    "Adicionalmente, predijo 3 veces 1 cuando era otro."
   ]
  },
  {
   "cell_type": "markdown",
   "id": "ea94cedb",
   "metadata": {},
   "source": [
    "---\n",
    "# Ejercicio 3\n",
    "Entrena usando los diferentes parámetros que admiten para mejorar su predicción."
   ]
  },
  {
   "cell_type": "code",
   "execution_count": 39,
   "id": "05b4f052",
   "metadata": {},
   "outputs": [],
   "source": [
    "from sklearn.model_selection import GridSearchCV"
   ]
  },
  {
   "cell_type": "code",
   "execution_count": 40,
   "id": "f5be34da",
   "metadata": {},
   "outputs": [],
   "source": [
    "parametros_log = {\n",
    "    'multi_class' : ['auto', 'ovr', 'multinomial'],\n",
    "    'C' : [0.5, 1, 1.5],\n",
    "    'solver' : ['lbfgs', 'saga']\n",
    "}\n",
    "parametros_SMV = {\n",
    "    'kernel' : ['linear', 'rbf'],\n",
    "    'gamma' : ['auto', 'scale'],\n",
    "    'probability' : [True, False],\n",
    "    'degree' : [1, 3, 5]\n",
    "}"
   ]
  },
  {
   "cell_type": "code",
   "execution_count": 41,
   "id": "46486b4d",
   "metadata": {},
   "outputs": [],
   "source": [
    "Modelos = [('Logistic', LogisticRegression(random_state=16), parametros_log), ('SMV', svm.SVC(), parametros_SMV)]"
   ]
  },
  {
   "cell_type": "code",
   "execution_count": 42,
   "id": "9fbfac86",
   "metadata": {},
   "outputs": [
    {
     "name": "stdout",
     "output_type": "stream",
     "text": [
      "Entrenando modelo: Logistic\n"
     ]
    },
    {
     "name": "stderr",
     "output_type": "stream",
     "text": [
      "D:\\users\\ciberintegra_14\\Anaconda3\\lib\\site-packages\\sklearn\\linear_model\\_logistic.py:814: ConvergenceWarning: lbfgs failed to converge (status=1):\n",
      "STOP: TOTAL NO. of ITERATIONS REACHED LIMIT.\n",
      "\n",
      "Increase the number of iterations (max_iter) or scale the data as shown in:\n",
      "    https://scikit-learn.org/stable/modules/preprocessing.html\n",
      "Please also refer to the documentation for alternative solver options:\n",
      "    https://scikit-learn.org/stable/modules/linear_model.html#logistic-regression\n",
      "  n_iter_i = _check_optimize_result(\n"
     ]
    },
    {
     "name": "stdout",
     "output_type": "stream",
     "text": [
      " Mejores parametros: {'C': 0.5, 'multi_class': 'auto', 'solver': 'lbfgs'} \n",
      " Mejor Resultado: 0.9438423645320198 \n",
      " Mejor Modelo:  LogisticRegression(C=0.5, random_state=16)\n",
      "\n",
      "========================================\n",
      "\n",
      "Entrenando modelo: SMV\n",
      " Mejores parametros: {'degree': 1, 'gamma': 'auto', 'kernel': 'linear', 'probability': True} \n",
      " Mejor Resultado: 0.9507389162561577 \n",
      " Mejor Modelo:  SVC(degree=1, gamma='auto', kernel='linear', probability=True)\n",
      "\n",
      "========================================\n",
      "\n"
     ]
    }
   ],
   "source": [
    "resultados_modelos = {}\n",
    "\n",
    "for nombre, modelo, parametros in Modelos:\n",
    "    print(f\"Entrenando modelo: {nombre}\")\n",
    "    \n",
    "    GS = GridSearchCV(estimator = modelo,\n",
    "                      param_grid = parametros,\n",
    "                      n_jobs = -1\n",
    "                 )\n",
    "    GS.fit(x_train, y_train)\n",
    "    \n",
    "    resultados_modelos[nombre] = {\n",
    "        \"mejores_parametros\": GS.best_params_,\n",
    "        \"mejor_resultado\": GS.best_score_,\n",
    "        \"mejor_modelo\": GS.best_estimator_\n",
    "    }\n",
    "    print(\" Mejores parametros:\", GS.best_params_, \"\\n\", \"Mejor Resultado:\", GS.best_score_, \"\\n\", \"Mejor Modelo: \", GS.best_estimator_)\n",
    "    print(\"\\n\" + \"=\"*40 + \"\\n\")\n"
   ]
  },
  {
   "cell_type": "markdown",
   "id": "158bf02a",
   "metadata": {},
   "source": [
    "Estos son los resultados que GridSearch encontro, los mejores parametros, su resultado y su el modelo."
   ]
  },
  {
   "cell_type": "code",
   "execution_count": 43,
   "id": "cd8ca7db",
   "metadata": {},
   "outputs": [
    {
     "data": {
      "text/plain": [
       "Text(0.5, 1.0, 'Comparación de Accurecy Score entre Modelos')"
      ]
     },
     "execution_count": 43,
     "metadata": {},
     "output_type": "execute_result"
    },
    {
     "data": {
      "image/png": "[encoded data removed]",
      "text/plain": [
       "<Figure size 640x480 with 1 Axes>"
      ]
     },
     "metadata": {},
     "output_type": "display_data"
    }
   ],
   "source": [
    "nombres_modelos = list(resultados_modelos.keys())\n",
    "\n",
    "resultados_r2 = [resultados_modelos[nombre][\"mejor_resultado\"] for nombre in nombres_modelos]\n",
    "\n",
    "plt.barh(nombres_modelos, resultados_r2, color='brown')\n",
    "plt.xlabel('Accurecy Score')\n",
    "plt.title('Comparación de Accurecy Score entre Modelos')"
   ]
  },
  {
   "cell_type": "markdown",
   "id": "30d9fd94",
   "metadata": {},
   "source": [
    "Aquí comparamos el accuracy ambos modelos y como vemos ahora estan más equilibrados y ambos estan bastante cerca del 1."
   ]
  },
  {
   "cell_type": "code",
   "execution_count": 44,
   "id": "d59f6dd8",
   "metadata": {},
   "outputs": [
    {
     "data": {
      "text/plain": [
       "<matplotlib.legend.Legend at 0x1d4849a1d90>"
      ]
     },
     "execution_count": 44,
     "metadata": {},
     "output_type": "execute_result"
    },
    {
     "data": {
      "image/png": "[encoded data removed]",
      "text/plain": [
       "<Figure size 1000x600 with 1 Axes>"
      ]
     },
     "metadata": {},
     "output_type": "display_data"
    }
   ],
   "source": [
    "fig, ax = plt.subplots(figsize=(10, 6))\n",
    "\n",
    "bar_width = 0.4\n",
    "\n",
    "posiciones_r2 = np.arange(len(nombres_modelos))\n",
    "posiciones_resultados = posiciones_r2 + bar_width\n",
    "\n",
    "ax.barh(posiciones_r2, resultados_r2, height=bar_width, color='teal', label='Parametros Cambiados')\n",
    "\n",
    "ax.barh(posiciones_resultados, [score_log, score_clf], height=bar_width, color='darkgoldenrod', label='Parametros Predeterminados')\n",
    "\n",
    "ax.set_yticks(posiciones_r2 + bar_width / 2)\n",
    "ax.set_yticklabels(nombres_modelos)\n",
    "ax.set_xlabel('Accurecy Score')\n",
    "ax.set_title('Comparación de Modelos')\n",
    "ax.legend()"
   ]
  },
  {
   "cell_type": "markdown",
   "id": "58a39849",
   "metadata": {},
   "source": [
    "Ahora los comparamos con los valores predeterminados, vemos una clara mejoria en SMV, aunque una ligera desmejora con Logistic (esto es más claro comparando los números).\n",
    "\n",
    "Ahora Logistic y SMV estan a la par."
   ]
  },
  {
   "cell_type": "markdown",
   "id": "8710c0e5",
   "metadata": {},
   "source": [
    "---\n",
    "# Ejercicio 4\n",
    "Compara su rendimiento utilizando la aproximación traicionando/test o cross-validation."
   ]
  },
  {
   "cell_type": "code",
   "execution_count": 45,
   "id": "7bd2e865",
   "metadata": {},
   "outputs": [],
   "source": [
    "from sklearn.model_selection import KFold\n",
    "from sklearn.model_selection import cross_val_score"
   ]
  },
  {
   "cell_type": "code",
   "execution_count": 46,
   "id": "608b9edf",
   "metadata": {},
   "outputs": [],
   "source": [
    "Kfold = KFold(5)"
   ]
  },
  {
   "cell_type": "code",
   "execution_count": 47,
   "id": "ba3e7a6a",
   "metadata": {
    "scrolled": true
   },
   "outputs": [
    {
     "name": "stderr",
     "output_type": "stream",
     "text": [
      "D:\\users\\ciberintegra_14\\Anaconda3\\lib\\site-packages\\sklearn\\linear_model\\_logistic.py:814: ConvergenceWarning: lbfgs failed to converge (status=1):\n",
      "STOP: TOTAL NO. of ITERATIONS REACHED LIMIT.\n",
      "\n",
      "Increase the number of iterations (max_iter) or scale the data as shown in:\n",
      "    https://scikit-learn.org/stable/modules/preprocessing.html\n",
      "Please also refer to the documentation for alternative solver options:\n",
      "    https://scikit-learn.org/stable/modules/linear_model.html#logistic-regression\n",
      "  n_iter_i = _check_optimize_result(\n",
      "D:\\users\\ciberintegra_14\\Anaconda3\\lib\\site-packages\\sklearn\\linear_model\\_logistic.py:814: ConvergenceWarning: lbfgs failed to converge (status=1):\n",
      "STOP: TOTAL NO. of ITERATIONS REACHED LIMIT.\n",
      "\n",
      "Increase the number of iterations (max_iter) or scale the data as shown in:\n",
      "    https://scikit-learn.org/stable/modules/preprocessing.html\n",
      "Please also refer to the documentation for alternative solver options:\n",
      "    https://scikit-learn.org/stable/modules/linear_model.html#logistic-regression\n",
      "  n_iter_i = _check_optimize_result(\n",
      "D:\\users\\ciberintegra_14\\Anaconda3\\lib\\site-packages\\sklearn\\linear_model\\_logistic.py:814: ConvergenceWarning: lbfgs failed to converge (status=1):\n",
      "STOP: TOTAL NO. of ITERATIONS REACHED LIMIT.\n",
      "\n",
      "Increase the number of iterations (max_iter) or scale the data as shown in:\n",
      "    https://scikit-learn.org/stable/modules/preprocessing.html\n",
      "Please also refer to the documentation for alternative solver options:\n",
      "    https://scikit-learn.org/stable/modules/linear_model.html#logistic-regression\n",
      "  n_iter_i = _check_optimize_result(\n",
      "D:\\users\\ciberintegra_14\\Anaconda3\\lib\\site-packages\\sklearn\\linear_model\\_logistic.py:814: ConvergenceWarning: lbfgs failed to converge (status=1):\n",
      "STOP: TOTAL NO. of ITERATIONS REACHED LIMIT.\n",
      "\n",
      "Increase the number of iterations (max_iter) or scale the data as shown in:\n",
      "    https://scikit-learn.org/stable/modules/preprocessing.html\n",
      "Please also refer to the documentation for alternative solver options:\n",
      "    https://scikit-learn.org/stable/modules/linear_model.html#logistic-regression\n",
      "  n_iter_i = _check_optimize_result(\n",
      "D:\\users\\ciberintegra_14\\Anaconda3\\lib\\site-packages\\sklearn\\linear_model\\_logistic.py:814: ConvergenceWarning: lbfgs failed to converge (status=1):\n",
      "STOP: TOTAL NO. of ITERATIONS REACHED LIMIT.\n",
      "\n",
      "Increase the number of iterations (max_iter) or scale the data as shown in:\n",
      "    https://scikit-learn.org/stable/modules/preprocessing.html\n",
      "Please also refer to the documentation for alternative solver options:\n",
      "    https://scikit-learn.org/stable/modules/linear_model.html#logistic-regression\n",
      "  n_iter_i = _check_optimize_result(\n",
      "D:\\users\\ciberintegra_14\\Anaconda3\\lib\\site-packages\\sklearn\\linear_model\\_logistic.py:814: ConvergenceWarning: lbfgs failed to converge (status=1):\n",
      "STOP: TOTAL NO. of ITERATIONS REACHED LIMIT.\n",
      "\n",
      "Increase the number of iterations (max_iter) or scale the data as shown in:\n",
      "    https://scikit-learn.org/stable/modules/preprocessing.html\n",
      "Please also refer to the documentation for alternative solver options:\n",
      "    https://scikit-learn.org/stable/modules/linear_model.html#logistic-regression\n",
      "  n_iter_i = _check_optimize_result(\n",
      "D:\\users\\ciberintegra_14\\Anaconda3\\lib\\site-packages\\sklearn\\linear_model\\_logistic.py:814: ConvergenceWarning: lbfgs failed to converge (status=1):\n",
      "STOP: TOTAL NO. of ITERATIONS REACHED LIMIT.\n",
      "\n",
      "Increase the number of iterations (max_iter) or scale the data as shown in:\n",
      "    https://scikit-learn.org/stable/modules/preprocessing.html\n",
      "Please also refer to the documentation for alternative solver options:\n",
      "    https://scikit-learn.org/stable/modules/linear_model.html#logistic-regression\n",
      "  n_iter_i = _check_optimize_result(\n",
      "D:\\users\\ciberintegra_14\\Anaconda3\\lib\\site-packages\\sklearn\\linear_model\\_logistic.py:814: ConvergenceWarning: lbfgs failed to converge (status=1):\n",
      "STOP: TOTAL NO. of ITERATIONS REACHED LIMIT.\n",
      "\n",
      "Increase the number of iterations (max_iter) or scale the data as shown in:\n",
      "    https://scikit-learn.org/stable/modules/preprocessing.html\n",
      "Please also refer to the documentation for alternative solver options:\n",
      "    https://scikit-learn.org/stable/modules/linear_model.html#logistic-regression\n",
      "  n_iter_i = _check_optimize_result(\n",
      "D:\\users\\ciberintegra_14\\Anaconda3\\lib\\site-packages\\sklearn\\linear_model\\_logistic.py:814: ConvergenceWarning: lbfgs failed to converge (status=1):\n",
      "STOP: TOTAL NO. of ITERATIONS REACHED LIMIT.\n",
      "\n",
      "Increase the number of iterations (max_iter) or scale the data as shown in:\n",
      "    https://scikit-learn.org/stable/modules/preprocessing.html\n",
      "Please also refer to the documentation for alternative solver options:\n",
      "    https://scikit-learn.org/stable/modules/linear_model.html#logistic-regression\n",
      "  n_iter_i = _check_optimize_result(\n",
      "D:\\users\\ciberintegra_14\\Anaconda3\\lib\\site-packages\\sklearn\\linear_model\\_logistic.py:814: ConvergenceWarning: lbfgs failed to converge (status=1):\n",
      "STOP: TOTAL NO. of ITERATIONS REACHED LIMIT.\n",
      "\n",
      "Increase the number of iterations (max_iter) or scale the data as shown in:\n",
      "    https://scikit-learn.org/stable/modules/preprocessing.html\n",
      "Please also refer to the documentation for alternative solver options:\n",
      "    https://scikit-learn.org/stable/modules/linear_model.html#logistic-regression\n",
      "  n_iter_i = _check_optimize_result(\n"
     ]
    }
   ],
   "source": [
    "pre_log_val = cross_val_score(LogisticRegression(random_state=16), x, y, cv = Kfold)\n",
    "pre_SMV_val = cross_val_score(svm.SVC(), x, y, cv = Kfold)\n",
    "mod_log_val = cross_val_score((LogisticRegression(C=0.5, random_state=16)), x, y, cv = Kfold)\n",
    "mod_SMV_val = cross_val_score(svm.SVC(degree=1, gamma='auto', kernel='linear', probability=True), x, y, cv = Kfold)"
   ]
  },
  {
   "cell_type": "code",
   "execution_count": 48,
   "id": "8b7e138a",
   "metadata": {},
   "outputs": [],
   "source": [
    "Validacion = [('Logistic (predeterminado)', pre_log_val), ('Logistic (GridSearch)', mod_log_val), ('SVM (predeterminado)', pre_SMV_val), ('SVM (GridSearch)', mod_SMV_val)]"
   ]
  },
  {
   "cell_type": "code",
   "execution_count": 49,
   "id": "4293a618",
   "metadata": {},
   "outputs": [
    {
     "name": "stdout",
     "output_type": "stream",
     "text": [
      "Logistic (predeterminado): \n",
      "\n",
      " Resultados:  [0.91666667 0.88888889 0.86111111 0.91428571 1.        ] \n",
      " Media:  0.9161904761904761 \n",
      " Deviración estandar:  0.04649086852962581 \n",
      "\n",
      " ---------------------------------------- \n",
      "\n",
      "Logistic (GridSearch): \n",
      "\n",
      " Resultados:  [0.91666667 0.88888889 0.83333333 0.94285714 1.        ] \n",
      " Media:  0.9163492063492062 \n",
      " Deviración estandar:  0.05540023639837394 \n",
      "\n",
      " ---------------------------------------- \n",
      "\n",
      "SVM (predeterminado): \n",
      "\n",
      " Resultados:  [0.83333333 0.75       0.5        0.62857143 0.        ] \n",
      " Media:  0.5423809523809524 \n",
      " Deviración estandar:  0.2936531960433689 \n",
      "\n",
      " ---------------------------------------- \n",
      "\n",
      "SVM (GridSearch): \n",
      "\n",
      " Resultados:  [0.91666667 0.88888889 0.88888889 0.94285714 0.91428571] \n",
      " Media:  0.9103174603174603 \n",
      " Deviración estandar:  0.02016560312781874 \n",
      "\n",
      " ---------------------------------------- \n",
      "\n"
     ]
    }
   ],
   "source": [
    "for nombre, modelo in Validacion:\n",
    "    print(f\"{nombre}: \\n\")\n",
    "    print(' Resultados: ', modelo,  '\\n Media: ', modelo.mean(), '\\n Deviración estandar: ', np.std(modelo), '\\n\\n', \"-\"*40, '\\n')"
   ]
  },
  {
   "cell_type": "code",
   "execution_count": 50,
   "id": "d5b01e3f",
   "metadata": {
    "scrolled": false
   },
   "outputs": [
    {
     "data": {
      "text/plain": [
       "<matplotlib.legend.Legend at 0x1d484c720a0>"
      ]
     },
     "execution_count": 50,
     "metadata": {},
     "output_type": "execute_result"
    },
    {
     "data": {
      "image/png": "[encoded data removed]",
      "text/plain": [
       "<Figure size 1000x600 with 1 Axes>"
      ]
     },
     "metadata": {},
     "output_type": "display_data"
    }
   ],
   "source": [
    "modelos, valores = zip(*Validacion)\n",
    "\n",
    "fig, ax = plt.subplots(figsize=(10, 6))\n",
    "\n",
    "posiciones_media = np.arange(len(modelos))\n",
    "posiciones_desviacion = posiciones_media + bar_width\n",
    "\n",
    "ax.barh(posiciones_media, [np.mean(valor) for valor in valores], height=bar_width, color='steelblue', label='Media')\n",
    "\n",
    "ax.barh(posiciones_desviacion, [np.std(valor) for valor in valores], height=bar_width, color='crimson', label='Desviación Estándar')\n",
    "\n",
    "ax.set_yticks(posiciones_desviacion - bar_width / 2)\n",
    "ax.set_yticklabels(modelos)\n",
    "ax.set_xlabel('Valor')\n",
    "ax.set_title('Comparación de Media y Desviación Estándar entre Modelos')\n",
    "ax.legend()"
   ]
  },
  {
   "cell_type": "markdown",
   "id": "fef65bfd",
   "metadata": {},
   "source": [
    "Podemos ver como ambos logistics y el SMV con parametros modificados estan muy a la par. Si nos vamos directamente a los valores podemos ver que el SMV modificado tiene la tercera mejor media por 0.006, que no es mucho, pero su desviación estandar es la más baja de todas, con 0.26 menor a la segunda más baja (si nos vamos a los valores).\n",
    "\n",
    "Entonces, yo concluyo que SMV con parametros modificados es el mejor modelo, ya que es el que varia menos y da buenos resultados.\n",
    "\n",
    "Adicionalmente, SVM predeterminado es el peor modelo por mucho, con la mayor derivación estandar y la peor media."
   ]
  },
  {
   "cell_type": "markdown",
   "id": "a6a961a8",
   "metadata": {},
   "source": [
    "# Ejercicio 5\n",
    "Aplica algún proceso de ingeniería para mejorar los resultados (normalización, estandarización, muestreo...)"
   ]
  },
  {
   "cell_type": "code",
   "execution_count": 51,
   "id": "45f46fd8",
   "metadata": {},
   "outputs": [],
   "source": [
    "from scipy.stats import shapiro"
   ]
  },
  {
   "cell_type": "code",
   "execution_count": 52,
   "id": "897ff3f4",
   "metadata": {},
   "outputs": [],
   "source": [
    "x_extra = x"
   ]
  },
  {
   "cell_type": "code",
   "execution_count": 53,
   "id": "94041839",
   "metadata": {},
   "outputs": [],
   "source": [
    "Datos_numerico = ['Alcohol', 'Malic acid', 'Ash', 'Alcalinity of ash', 'Magnesium', 'Total phenols', 'Flavanoids', 'Nonflavanoid phenols', 'Proanthocyanins', 'Color intensity', 'Hue', 'OD280/OD315 of diluted wines', 'Proline']"
   ]
  },
  {
   "cell_type": "code",
   "execution_count": 54,
   "id": "20666ddc",
   "metadata": {},
   "outputs": [
    {
     "name": "stdout",
     "output_type": "stream",
     "text": [
      "stat=0.982, p=0.020\n",
      "Alcohol :Probablemente no Gaussiana\n",
      "stat=0.889, p=0.000\n",
      "Malic acid :Probablemente no Gaussiana\n",
      "stat=0.984, p=0.039\n",
      "Ash :Probablemente no Gaussiana\n",
      "stat=0.990, p=0.264\n",
      "Alcalinity of ash :Probablemente Gaussiana\n",
      "stat=0.938, p=0.000\n",
      "Magnesium :Probablemente no Gaussiana\n",
      "stat=0.977, p=0.004\n",
      "Total phenols :Probablemente no Gaussiana\n",
      "stat=0.955, p=0.000\n",
      "Flavanoids :Probablemente no Gaussiana\n",
      "stat=0.963, p=0.000\n",
      "Nonflavanoid phenols :Probablemente no Gaussiana\n",
      "stat=0.981, p=0.014\n",
      "Proanthocyanins :Probablemente no Gaussiana\n",
      "stat=0.940, p=0.000\n",
      "Color intensity :Probablemente no Gaussiana\n",
      "stat=0.981, p=0.017\n",
      "Hue :Probablemente no Gaussiana\n",
      "stat=0.945, p=0.000\n",
      "OD280/OD315 of diluted wines :Probablemente no Gaussiana\n",
      "stat=0.931, p=0.000\n",
      "Proline :Probablemente no Gaussiana\n"
     ]
    }
   ],
   "source": [
    "for elemento in x_extra[Datos_numerico]:\n",
    "    stat, p = shapiro(x_extra[elemento])\n",
    "    print('stat=%.3f, p=%.3f' % (stat, p))\n",
    "    if p > 0.05:\n",
    "        print(elemento, ':Probablemente Gaussiana')\n",
    "    else:\n",
    "        print(elemento, ':Probablemente no Gaussiana')"
   ]
  },
  {
   "cell_type": "code",
   "execution_count": 55,
   "id": "1cd665d8",
   "metadata": {},
   "outputs": [],
   "source": [
    "from sklearn.preprocessing import StandardScaler"
   ]
  },
  {
   "cell_type": "code",
   "execution_count": 56,
   "id": "3ab80b6b",
   "metadata": {},
   "outputs": [],
   "source": [
    "Standard = StandardScaler()"
   ]
  },
  {
   "cell_type": "code",
   "execution_count": 57,
   "id": "40ea585b",
   "metadata": {},
   "outputs": [],
   "source": [
    "x_extra['Alcalinity of ash'] = Standard.fit_transform(x_extra[['Alcalinity of ash']])"
   ]
  },
  {
   "cell_type": "code",
   "execution_count": 58,
   "id": "4433b8cc",
   "metadata": {},
   "outputs": [
    {
     "name": "stderr",
     "output_type": "stream",
     "text": [
      "D:\\users\\ciberintegra_14\\Anaconda3\\lib\\site-packages\\seaborn\\_decorators.py:36: FutureWarning: Pass the following variable as a keyword arg: x. From version 0.12, the only valid positional argument will be `data`, and passing other arguments without an explicit keyword will result in an error or misinterpretation.\n",
      "  warnings.warn(\n"
     ]
    },
    {
     "data": {
      "image/png": "[encoded data removed]",
      "text/plain": [
       "<Figure size 640x480 with 1 Axes>"
      ]
     },
     "metadata": {},
     "output_type": "display_data"
    },
    {
     "name": "stderr",
     "output_type": "stream",
     "text": [
      "D:\\users\\ciberintegra_14\\Anaconda3\\lib\\site-packages\\seaborn\\_decorators.py:36: FutureWarning: Pass the following variable as a keyword arg: x. From version 0.12, the only valid positional argument will be `data`, and passing other arguments without an explicit keyword will result in an error or misinterpretation.\n",
      "  warnings.warn(\n"
     ]
    },
    {
     "data": {
      "image/png": "[encoded data removed]",
      "text/plain": [
       "<Figure size 640x480 with 1 Axes>"
      ]
     },
     "metadata": {},
     "output_type": "display_data"
    },
    {
     "name": "stderr",
     "output_type": "stream",
     "text": [
      "D:\\users\\ciberintegra_14\\Anaconda3\\lib\\site-packages\\seaborn\\_decorators.py:36: FutureWarning: Pass the following variable as a keyword arg: x. From version 0.12, the only valid positional argument will be `data`, and passing other arguments without an explicit keyword will result in an error or misinterpretation.\n",
      "  warnings.warn(\n"
     ]
    },
    {
     "data": {
      "image/png": "[encoded data removed]",
      "text/plain": [
       "<Figure size 640x480 with 1 Axes>"
      ]
     },
     "metadata": {},
     "output_type": "display_data"
    },
    {
     "name": "stderr",
     "output_type": "stream",
     "text": [
      "D:\\users\\ciberintegra_14\\Anaconda3\\lib\\site-packages\\seaborn\\_decorators.py:36: FutureWarning: Pass the following variable as a keyword arg: x. From version 0.12, the only valid positional argument will be `data`, and passing other arguments without an explicit keyword will result in an error or misinterpretation.\n",
      "  warnings.warn(\n"
     ]
    },
    {
     "data": {
      "image/png": "[encoded data removed]",
      "text/plain": [
       "<Figure size 640x480 with 1 Axes>"
      ]
     },
     "metadata": {},
     "output_type": "display_data"
    },
    {
     "name": "stderr",
     "output_type": "stream",
     "text": [
      "D:\\users\\ciberintegra_14\\Anaconda3\\lib\\site-packages\\seaborn\\_decorators.py:36: FutureWarning: Pass the following variable as a keyword arg: x. From version 0.12, the only valid positional argument will be `data`, and passing other arguments without an explicit keyword will result in an error or misinterpretation.\n",
      "  warnings.warn(\n"
     ]
    },
    {
     "data": {
      "image/png": "[encoded data removed]",
      "text/plain": [
       "<Figure size 640x480 with 1 Axes>"
      ]
     },
     "metadata": {},
     "output_type": "display_data"
    },
    {
     "name": "stderr",
     "output_type": "stream",
     "text": [
      "D:\\users\\ciberintegra_14\\Anaconda3\\lib\\site-packages\\seaborn\\_decorators.py:36: FutureWarning: Pass the following variable as a keyword arg: x. From version 0.12, the only valid positional argument will be `data`, and passing other arguments without an explicit keyword will result in an error or misinterpretation.\n",
      "  warnings.warn(\n"
     ]
    },
    {
     "data": {
      "image/png": "[encoded data removed]",
      "text/plain": [
       "<Figure size 640x480 with 1 Axes>"
      ]
     },
     "metadata": {},
     "output_type": "display_data"
    },
    {
     "name": "stderr",
     "output_type": "stream",
     "text": [
      "D:\\users\\ciberintegra_14\\Anaconda3\\lib\\site-packages\\seaborn\\_decorators.py:36: FutureWarning: Pass the following variable as a keyword arg: x. From version 0.12, the only valid positional argument will be `data`, and passing other arguments without an explicit keyword will result in an error or misinterpretation.\n",
      "  warnings.warn(\n"
     ]
    },
    {
     "data": {
      "image/png": "[encoded data removed]",
      "text/plain": [
       "<Figure size 640x480 with 1 Axes>"
      ]
     },
     "metadata": {},
     "output_type": "display_data"
    },
    {
     "name": "stderr",
     "output_type": "stream",
     "text": [
      "D:\\users\\ciberintegra_14\\Anaconda3\\lib\\site-packages\\seaborn\\_decorators.py:36: FutureWarning: Pass the following variable as a keyword arg: x. From version 0.12, the only valid positional argument will be `data`, and passing other arguments without an explicit keyword will result in an error or misinterpretation.\n",
      "  warnings.warn(\n"
     ]
    },
    {
     "data": {
      "image/png": "[encoded data removed]",
      "text/plain": [
       "<Figure size 640x480 with 1 Axes>"
      ]
     },
     "metadata": {},
     "output_type": "display_data"
    },
    {
     "name": "stderr",
     "output_type": "stream",
     "text": [
      "D:\\users\\ciberintegra_14\\Anaconda3\\lib\\site-packages\\seaborn\\_decorators.py:36: FutureWarning: Pass the following variable as a keyword arg: x. From version 0.12, the only valid positional argument will be `data`, and passing other arguments without an explicit keyword will result in an error or misinterpretation.\n",
      "  warnings.warn(\n"
     ]
    },
    {
     "data": {
      "image/png": "[encoded data removed]",
      "text/plain": [
       "<Figure size 640x480 with 1 Axes>"
      ]
     },
     "metadata": {},
     "output_type": "display_data"
    },
    {
     "name": "stderr",
     "output_type": "stream",
     "text": [
      "D:\\users\\ciberintegra_14\\Anaconda3\\lib\\site-packages\\seaborn\\_decorators.py:36: FutureWarning: Pass the following variable as a keyword arg: x. From version 0.12, the only valid positional argument will be `data`, and passing other arguments without an explicit keyword will result in an error or misinterpretation.\n",
      "  warnings.warn(\n"
     ]
    },
    {
     "data": {
      "image/png": "[encoded data removed]",
      "text/plain": [
       "<Figure size 640x480 with 1 Axes>"
      ]
     },
     "metadata": {},
     "output_type": "display_data"
    },
    {
     "name": "stderr",
     "output_type": "stream",
     "text": [
      "D:\\users\\ciberintegra_14\\Anaconda3\\lib\\site-packages\\seaborn\\_decorators.py:36: FutureWarning: Pass the following variable as a keyword arg: x. From version 0.12, the only valid positional argument will be `data`, and passing other arguments without an explicit keyword will result in an error or misinterpretation.\n",
      "  warnings.warn(\n"
     ]
    },
    {
     "data": {
      "image/png": "[encoded data removed]",
      "text/plain": [
       "<Figure size 640x480 with 1 Axes>"
      ]
     },
     "metadata": {},
     "output_type": "display_data"
    },
    {
     "name": "stderr",
     "output_type": "stream",
     "text": [
      "D:\\users\\ciberintegra_14\\Anaconda3\\lib\\site-packages\\seaborn\\_decorators.py:36: FutureWarning: Pass the following variable as a keyword arg: x. From version 0.12, the only valid positional argument will be `data`, and passing other arguments without an explicit keyword will result in an error or misinterpretation.\n",
      "  warnings.warn(\n"
     ]
    },
    {
     "data": {
      "image/png": "[encoded data removed]",
      "text/plain": [
       "<Figure size 640x480 with 1 Axes>"
      ]
     },
     "metadata": {},
     "output_type": "display_data"
    },
    {
     "name": "stderr",
     "output_type": "stream",
     "text": [
      "D:\\users\\ciberintegra_14\\Anaconda3\\lib\\site-packages\\seaborn\\_decorators.py:36: FutureWarning: Pass the following variable as a keyword arg: x. From version 0.12, the only valid positional argument will be `data`, and passing other arguments without an explicit keyword will result in an error or misinterpretation.\n",
      "  warnings.warn(\n"
     ]
    },
    {
     "data": {
      "image/png": "[encoded data removed]",
      "text/plain": [
       "<Figure size 640x480 with 1 Axes>"
      ]
     },
     "metadata": {},
     "output_type": "display_data"
    }
   ],
   "source": [
    "for elemento in x_extra[Datos_numerico]:\n",
    "    sns.boxplot(x[elemento])\n",
    "    plt.show()"
   ]
  },
  {
   "cell_type": "code",
   "execution_count": 59,
   "id": "0e13120c",
   "metadata": {},
   "outputs": [],
   "source": [
    "from sklearn.preprocessing import RobustScaler\n",
    "from sklearn.preprocessing import MinMaxScaler"
   ]
  },
  {
   "cell_type": "code",
   "execution_count": 60,
   "id": "56506c24",
   "metadata": {},
   "outputs": [],
   "source": [
    "Atipicos = ['Malic acid', 'Ash', 'Magnesium', 'Proanthocyanins', 'Color intensity', 'Hue']\n",
    "Tipicos = ['Alcohol', 'Total phenols', 'Flavanoids', 'Nonflavanoid phenols', 'OD280/OD315 of diluted wines', 'Proline']"
   ]
  },
  {
   "cell_type": "code",
   "execution_count": 61,
   "id": "ea05ea85",
   "metadata": {},
   "outputs": [],
   "source": [
    "mms = MinMaxScaler()\n",
    "x_extra[Tipicos] = mms.fit_transform(x_extra[Tipicos])"
   ]
  },
  {
   "cell_type": "code",
   "execution_count": 62,
   "id": "1d3e851e",
   "metadata": {},
   "outputs": [],
   "source": [
    "rs = RobustScaler()\n",
    "x_extra[Atipicos] = rs.fit_transform(x_extra[Atipicos])"
   ]
  },
  {
   "cell_type": "markdown",
   "id": "5add2592",
   "metadata": {},
   "source": [
    "Despues de hacer el preprocesado, estamos listos para hacer nuestras comparaciones"
   ]
  },
  {
   "cell_type": "markdown",
   "id": "e4a7f2b0",
   "metadata": {},
   "source": [
    "---"
   ]
  },
  {
   "cell_type": "code",
   "execution_count": 63,
   "id": "f0ed1e71",
   "metadata": {},
   "outputs": [],
   "source": [
    "ex_train, ex_test, ey_train, ey_test = train_test_split(x_extra, y, test_size=0.20, random_state=4)"
   ]
  },
  {
   "cell_type": "code",
   "execution_count": 66,
   "id": "04762630",
   "metadata": {},
   "outputs": [],
   "source": [
    "Modelo_5 = svm.SVC(degree=1, gamma='auto', kernel='linear', probability=True)"
   ]
  },
  {
   "cell_type": "code",
   "execution_count": 67,
   "id": "623807e5",
   "metadata": {
    "scrolled": true
   },
   "outputs": [
    {
     "data": {
      "text/plain": [
       "SVC(degree=1, gamma='auto', kernel='linear', probability=True)"
      ]
     },
     "execution_count": 67,
     "metadata": {},
     "output_type": "execute_result"
    }
   ],
   "source": [
    "Modelo_5.fit(ex_train, ey_train)"
   ]
  },
  {
   "cell_type": "code",
   "execution_count": 93,
   "id": "ab3d8632",
   "metadata": {},
   "outputs": [],
   "source": [
    "score_RMV = resultados_modelos['SMV']['mejor_resultado']\n",
    "score_5 = accuracy_score(ey_test, pre_5)"
   ]
  },
  {
   "cell_type": "code",
   "execution_count": 95,
   "id": "5bd97700",
   "metadata": {},
   "outputs": [
    {
     "name": "stdout",
     "output_type": "stream",
     "text": [
      "El Accurecy en el SVM sin preprocesado es  0.9507389162561577\n",
      "El Accurecy en el SVM con preprocesado es  0.9722222222222222\n"
     ]
    }
   ],
   "source": [
    "print('El Accurecy en el SVM sin preprocesado es ', score_RMV)\n",
    "print('El Accurecy en el SVM con preprocesado es ', score_5)"
   ]
  },
  {
   "cell_type": "code",
   "execution_count": 96,
   "id": "1664423f",
   "metadata": {},
   "outputs": [
    {
     "data": {
      "text/plain": [
       "Text(0.5, 1.0, 'Comparación de Accurecy Score entre Modelos de RMV')"
      ]
     },
     "execution_count": 96,
     "metadata": {},
     "output_type": "execute_result"
    },
    {
     "data": {
      "image/png": "[encoded data removed]",
      "text/plain": [
       "<Figure size 640x480 with 1 Axes>"
      ]
     },
     "metadata": {},
     "output_type": "display_data"
    }
   ],
   "source": [
    "plt.barh(['Con preprocesado', 'Sin preprocesado'], [score_5, score_RMV], color='OliveDrab')\n",
    "plt.xlabel('Accurecy Score')\n",
    "plt.title('Comparación de Accurecy Score entre Modelos de RMV')"
   ]
  },
  {
   "cell_type": "markdown",
   "id": "55cfb81c",
   "metadata": {},
   "source": [
    "Vemos que con preprocesado, el modelo da mejores resultados, pues ha mejorado 0.02."
   ]
  },
  {
   "cell_type": "code",
   "execution_count": 101,
   "id": "5969db7a",
   "metadata": {},
   "outputs": [],
   "source": [
    "mod_SMV_val_5 = cross_val_score(svm.SVC(degree=1, gamma='auto', kernel='linear', probability=True), x_extra, y, cv = Kfold)"
   ]
  },
  {
   "cell_type": "code",
   "execution_count": 102,
   "id": "f4eff2b8",
   "metadata": {},
   "outputs": [],
   "source": [
    "Validacion_ex = [('RMV con preprocesado', mod_SMV_val_5), ('RMV sin preprocesado', mod_SMV_val)]"
   ]
  },
  {
   "cell_type": "code",
   "execution_count": 103,
   "id": "14b94afc",
   "metadata": {},
   "outputs": [
    {
     "name": "stdout",
     "output_type": "stream",
     "text": [
      "RMV con preprocesado: \n",
      "\n",
      " Resultados:  [0.91666667 0.94444444 1.         0.85714286 0.97142857] \n",
      " Media:  0.937936507936508 \n",
      " Deviración estandar:  0.04898156542593045 \n",
      "\n",
      " ---------------------------------------- \n",
      "\n",
      "RMV sin preprocesado: \n",
      "\n",
      " Resultados:  [0.91666667 0.88888889 0.88888889 0.94285714 0.91428571] \n",
      " Media:  0.9103174603174603 \n",
      " Deviración estandar:  0.02016560312781874 \n",
      "\n",
      " ---------------------------------------- \n",
      "\n"
     ]
    }
   ],
   "source": [
    "for nombre, modelo in Validacion_ex:\n",
    "    print(f\"{nombre}: \\n\")\n",
    "    print(' Resultados: ', modelo,  '\\n Media: ', modelo.mean(), '\\n Deviración estandar: ', np.std(modelo), '\\n\\n', \"-\"*40, '\\n')"
   ]
  },
  {
   "cell_type": "code",
   "execution_count": 104,
   "id": "23676e4b",
   "metadata": {},
   "outputs": [
    {
     "data": {
      "text/plain": [
       "<matplotlib.legend.Legend at 0x1d484cdef40>"
      ]
     },
     "execution_count": 104,
     "metadata": {},
     "output_type": "execute_result"
    },
    {
     "data": {
      "image/png": "[encoded data removed]",
      "text/plain": [
       "<Figure size 1000x600 with 1 Axes>"
      ]
     },
     "metadata": {},
     "output_type": "display_data"
    }
   ],
   "source": [
    "modelos, valores = zip(*Validacion_ex)\n",
    "\n",
    "fig, ax = plt.subplots(figsize=(10, 6))\n",
    "\n",
    "posiciones_media = np.arange(len(modelos))\n",
    "posiciones_desviacion = posiciones_media + bar_width\n",
    "\n",
    "ax.barh(posiciones_media, [np.mean(valor) for valor in valores], height=bar_width, color='SteelBlue', label='Media')\n",
    "\n",
    "ax.barh(posiciones_desviacion, [np.std(valor) for valor in valores], height=bar_width, color='LightSeaGreen', label='Desviación Estándar')\n",
    "\n",
    "ax.set_yticks(posiciones_desviacion - bar_width / 2)\n",
    "ax.set_yticklabels(modelos)\n",
    "ax.set_xlabel('Valor')\n",
    "ax.set_title('Comparación de Media y Desviación Estándar entre Modelos')\n",
    "ax.legend()"
   ]
  },
  {
   "cell_type": "markdown",
   "id": "4ff731f3",
   "metadata": {},
   "source": [
    "Haciendo cross-validation, podemos confirmar que con preprocesado da mejores resultados de media, pero la derivación estándar es tambien más grande.\n",
    "\n",
    "Sin embargo, en esta ocación yo diria que el modelo con preprocesado es mejor, ya que aunque en la tabla parece que la derivación es muy grande, realmente es de solo 0.02, la misma de la media. Yo escogeria la versión con preprocesado porque en cuestiones generales da mejores resultados y solo es un poco menos coerente que la versión sin preprocesado."
   ]
  }
 ],
 "metadata": {
  "kernelspec": {
   "display_name": "Python 3 (ipykernel)",
   "language": "python",
   "name": "python3"
  },
  "language_info": {
   "codemirror_mode": {
    "name": "ipython",
    "version": 3
   },
   "file_extension": ".py",
   "mimetype": "text/x-python",
   "name": "python",
   "nbconvert_exporter": "python",
   "pygments_lexer": "ipython3",
   "version": "3.9.13"
  }
 },
 "nbformat": 4,
 "nbformat_minor": 5
}
